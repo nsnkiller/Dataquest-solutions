{
 "cells": [
  {
   "cell_type": "markdown",
   "metadata": {},
   "source": [
    "## Introduction"
   ]
  },
  {
   "cell_type": "code",
   "execution_count": 24,
   "metadata": {},
   "outputs": [],
   "source": [
    "import numpy as np\n",
    "import pandas as pd\n",
    "\n",
    "dc_listings = pd.read_csv(\"dc_airbnb.csv\")\n",
    "stripped_commas = dc_listings['price'].str.replace(',', '')\n",
    "stripped_dollars = stripped_commas.str.replace('$', '')\n",
    "dc_listings['price'] = stripped_dollars.astype('float')"
   ]
  },
  {
   "cell_type": "code",
   "execution_count": 25,
   "metadata": {},
   "outputs": [],
   "source": [
    "cpy_dc_listings = dc_listings.copy()\n",
    "#np.random.permutation(cpy_dc_listings.index)\n",
    "cpy_dc_listings = cpy_dc_listings.iloc[np.random.permutation(cpy_dc_listings.index), :]"
   ]
  },
  {
   "cell_type": "code",
   "execution_count": 26,
   "metadata": {},
   "outputs": [
    {
     "data": {
      "text/html": [
       "<div>\n",
       "<style scoped>\n",
       "    .dataframe tbody tr th:only-of-type {\n",
       "        vertical-align: middle;\n",
       "    }\n",
       "\n",
       "    .dataframe tbody tr th {\n",
       "        vertical-align: top;\n",
       "    }\n",
       "\n",
       "    .dataframe thead th {\n",
       "        text-align: right;\n",
       "    }\n",
       "</style>\n",
       "<table border=\"1\" class=\"dataframe\">\n",
       "  <thead>\n",
       "    <tr style=\"text-align: right;\">\n",
       "      <th></th>\n",
       "      <th>host_response_rate</th>\n",
       "      <th>host_acceptance_rate</th>\n",
       "      <th>host_listings_count</th>\n",
       "      <th>accommodates</th>\n",
       "      <th>room_type</th>\n",
       "      <th>bedrooms</th>\n",
       "      <th>bathrooms</th>\n",
       "      <th>beds</th>\n",
       "      <th>price</th>\n",
       "      <th>cleaning_fee</th>\n",
       "      <th>security_deposit</th>\n",
       "      <th>minimum_nights</th>\n",
       "      <th>maximum_nights</th>\n",
       "      <th>number_of_reviews</th>\n",
       "      <th>latitude</th>\n",
       "      <th>longitude</th>\n",
       "      <th>city</th>\n",
       "      <th>zipcode</th>\n",
       "      <th>state</th>\n",
       "    </tr>\n",
       "  </thead>\n",
       "  <tbody>\n",
       "    <tr>\n",
       "      <th>3393</th>\n",
       "      <td>100%</td>\n",
       "      <td>92%</td>\n",
       "      <td>2</td>\n",
       "      <td>4</td>\n",
       "      <td>Entire home/apt</td>\n",
       "      <td>1.0</td>\n",
       "      <td>1.0</td>\n",
       "      <td>2.0</td>\n",
       "      <td>99.0</td>\n",
       "      <td>$15.00</td>\n",
       "      <td>$300.00</td>\n",
       "      <td>1</td>\n",
       "      <td>1125</td>\n",
       "      <td>2</td>\n",
       "      <td>38.934368</td>\n",
       "      <td>-77.059080</td>\n",
       "      <td>Washington</td>\n",
       "      <td>20008</td>\n",
       "      <td>DC</td>\n",
       "    </tr>\n",
       "    <tr>\n",
       "      <th>3359</th>\n",
       "      <td>NaN</td>\n",
       "      <td>NaN</td>\n",
       "      <td>1</td>\n",
       "      <td>1</td>\n",
       "      <td>Private room</td>\n",
       "      <td>1.0</td>\n",
       "      <td>1.0</td>\n",
       "      <td>1.0</td>\n",
       "      <td>80.0</td>\n",
       "      <td>$70.00</td>\n",
       "      <td>$450.00</td>\n",
       "      <td>1</td>\n",
       "      <td>300</td>\n",
       "      <td>0</td>\n",
       "      <td>38.937169</td>\n",
       "      <td>-77.074239</td>\n",
       "      <td>Washington</td>\n",
       "      <td>20016</td>\n",
       "      <td>DC</td>\n",
       "    </tr>\n",
       "    <tr>\n",
       "      <th>3667</th>\n",
       "      <td>90%</td>\n",
       "      <td>100%</td>\n",
       "      <td>2</td>\n",
       "      <td>3</td>\n",
       "      <td>Private room</td>\n",
       "      <td>1.0</td>\n",
       "      <td>1.0</td>\n",
       "      <td>2.0</td>\n",
       "      <td>90.0</td>\n",
       "      <td>NaN</td>\n",
       "      <td>$100.00</td>\n",
       "      <td>1</td>\n",
       "      <td>24</td>\n",
       "      <td>167</td>\n",
       "      <td>38.885347</td>\n",
       "      <td>-76.981833</td>\n",
       "      <td>Washington</td>\n",
       "      <td>20003</td>\n",
       "      <td>DC</td>\n",
       "    </tr>\n",
       "    <tr>\n",
       "      <th>287</th>\n",
       "      <td>99%</td>\n",
       "      <td>96%</td>\n",
       "      <td>32</td>\n",
       "      <td>4</td>\n",
       "      <td>Entire home/apt</td>\n",
       "      <td>2.0</td>\n",
       "      <td>1.0</td>\n",
       "      <td>2.0</td>\n",
       "      <td>189.0</td>\n",
       "      <td>$65.00</td>\n",
       "      <td>$200.00</td>\n",
       "      <td>2</td>\n",
       "      <td>365</td>\n",
       "      <td>47</td>\n",
       "      <td>38.907245</td>\n",
       "      <td>-77.048975</td>\n",
       "      <td>Washington</td>\n",
       "      <td>20037</td>\n",
       "      <td>DC</td>\n",
       "    </tr>\n",
       "    <tr>\n",
       "      <th>1783</th>\n",
       "      <td>90%</td>\n",
       "      <td>88%</td>\n",
       "      <td>1</td>\n",
       "      <td>3</td>\n",
       "      <td>Private room</td>\n",
       "      <td>1.0</td>\n",
       "      <td>1.5</td>\n",
       "      <td>2.0</td>\n",
       "      <td>128.0</td>\n",
       "      <td>$50.00</td>\n",
       "      <td>NaN</td>\n",
       "      <td>1</td>\n",
       "      <td>365</td>\n",
       "      <td>8</td>\n",
       "      <td>38.950600</td>\n",
       "      <td>-77.085841</td>\n",
       "      <td>Washington</td>\n",
       "      <td>20016</td>\n",
       "      <td>DC</td>\n",
       "    </tr>\n",
       "    <tr>\n",
       "      <th>...</th>\n",
       "      <td>...</td>\n",
       "      <td>...</td>\n",
       "      <td>...</td>\n",
       "      <td>...</td>\n",
       "      <td>...</td>\n",
       "      <td>...</td>\n",
       "      <td>...</td>\n",
       "      <td>...</td>\n",
       "      <td>...</td>\n",
       "      <td>...</td>\n",
       "      <td>...</td>\n",
       "      <td>...</td>\n",
       "      <td>...</td>\n",
       "      <td>...</td>\n",
       "      <td>...</td>\n",
       "      <td>...</td>\n",
       "      <td>...</td>\n",
       "      <td>...</td>\n",
       "      <td>...</td>\n",
       "    </tr>\n",
       "    <tr>\n",
       "      <th>1560</th>\n",
       "      <td>100%</td>\n",
       "      <td>100%</td>\n",
       "      <td>1</td>\n",
       "      <td>2</td>\n",
       "      <td>Entire home/apt</td>\n",
       "      <td>1.0</td>\n",
       "      <td>1.0</td>\n",
       "      <td>1.0</td>\n",
       "      <td>125.0</td>\n",
       "      <td>$35.00</td>\n",
       "      <td>NaN</td>\n",
       "      <td>2</td>\n",
       "      <td>1125</td>\n",
       "      <td>9</td>\n",
       "      <td>38.938868</td>\n",
       "      <td>-77.019719</td>\n",
       "      <td>Washington</td>\n",
       "      <td>20011</td>\n",
       "      <td>DC</td>\n",
       "    </tr>\n",
       "    <tr>\n",
       "      <th>959</th>\n",
       "      <td>83%</td>\n",
       "      <td>0%</td>\n",
       "      <td>2</td>\n",
       "      <td>4</td>\n",
       "      <td>Entire home/apt</td>\n",
       "      <td>2.0</td>\n",
       "      <td>1.0</td>\n",
       "      <td>2.0</td>\n",
       "      <td>127.0</td>\n",
       "      <td>$30.00</td>\n",
       "      <td>NaN</td>\n",
       "      <td>2</td>\n",
       "      <td>1125</td>\n",
       "      <td>0</td>\n",
       "      <td>38.917604</td>\n",
       "      <td>-77.037196</td>\n",
       "      <td>Washington</td>\n",
       "      <td>20009</td>\n",
       "      <td>DC</td>\n",
       "    </tr>\n",
       "    <tr>\n",
       "      <th>2805</th>\n",
       "      <td>100%</td>\n",
       "      <td>100%</td>\n",
       "      <td>1</td>\n",
       "      <td>4</td>\n",
       "      <td>Entire home/apt</td>\n",
       "      <td>1.0</td>\n",
       "      <td>1.0</td>\n",
       "      <td>2.0</td>\n",
       "      <td>168.0</td>\n",
       "      <td>$25.00</td>\n",
       "      <td>$200.00</td>\n",
       "      <td>3</td>\n",
       "      <td>14</td>\n",
       "      <td>31</td>\n",
       "      <td>38.928605</td>\n",
       "      <td>-77.029234</td>\n",
       "      <td>Washington</td>\n",
       "      <td>20010</td>\n",
       "      <td>DC</td>\n",
       "    </tr>\n",
       "    <tr>\n",
       "      <th>3217</th>\n",
       "      <td>NaN</td>\n",
       "      <td>NaN</td>\n",
       "      <td>1</td>\n",
       "      <td>2</td>\n",
       "      <td>Private room</td>\n",
       "      <td>1.0</td>\n",
       "      <td>1.0</td>\n",
       "      <td>1.0</td>\n",
       "      <td>70.0</td>\n",
       "      <td>NaN</td>\n",
       "      <td>NaN</td>\n",
       "      <td>1</td>\n",
       "      <td>1125</td>\n",
       "      <td>0</td>\n",
       "      <td>38.935041</td>\n",
       "      <td>-76.982252</td>\n",
       "      <td>Washington</td>\n",
       "      <td>20017</td>\n",
       "      <td>DC</td>\n",
       "    </tr>\n",
       "    <tr>\n",
       "      <th>2262</th>\n",
       "      <td>100%</td>\n",
       "      <td>100%</td>\n",
       "      <td>3</td>\n",
       "      <td>4</td>\n",
       "      <td>Entire home/apt</td>\n",
       "      <td>2.0</td>\n",
       "      <td>1.0</td>\n",
       "      <td>2.0</td>\n",
       "      <td>185.0</td>\n",
       "      <td>NaN</td>\n",
       "      <td>NaN</td>\n",
       "      <td>3</td>\n",
       "      <td>1125</td>\n",
       "      <td>0</td>\n",
       "      <td>38.905067</td>\n",
       "      <td>-76.996435</td>\n",
       "      <td>Washington</td>\n",
       "      <td>20002</td>\n",
       "      <td>DC</td>\n",
       "    </tr>\n",
       "  </tbody>\n",
       "</table>\n",
       "<p>3723 rows × 19 columns</p>\n",
       "</div>"
      ],
      "text/plain": [
       "     host_response_rate host_acceptance_rate  host_listings_count  \\\n",
       "3393               100%                  92%                    2   \n",
       "3359                NaN                  NaN                    1   \n",
       "3667                90%                 100%                    2   \n",
       "287                 99%                  96%                   32   \n",
       "1783                90%                  88%                    1   \n",
       "...                 ...                  ...                  ...   \n",
       "1560               100%                 100%                    1   \n",
       "959                 83%                   0%                    2   \n",
       "2805               100%                 100%                    1   \n",
       "3217                NaN                  NaN                    1   \n",
       "2262               100%                 100%                    3   \n",
       "\n",
       "      accommodates        room_type  bedrooms  bathrooms  beds  price  \\\n",
       "3393             4  Entire home/apt       1.0        1.0   2.0   99.0   \n",
       "3359             1     Private room       1.0        1.0   1.0   80.0   \n",
       "3667             3     Private room       1.0        1.0   2.0   90.0   \n",
       "287              4  Entire home/apt       2.0        1.0   2.0  189.0   \n",
       "1783             3     Private room       1.0        1.5   2.0  128.0   \n",
       "...            ...              ...       ...        ...   ...    ...   \n",
       "1560             2  Entire home/apt       1.0        1.0   1.0  125.0   \n",
       "959              4  Entire home/apt       2.0        1.0   2.0  127.0   \n",
       "2805             4  Entire home/apt       1.0        1.0   2.0  168.0   \n",
       "3217             2     Private room       1.0        1.0   1.0   70.0   \n",
       "2262             4  Entire home/apt       2.0        1.0   2.0  185.0   \n",
       "\n",
       "     cleaning_fee security_deposit  minimum_nights  maximum_nights  \\\n",
       "3393       $15.00          $300.00               1            1125   \n",
       "3359       $70.00          $450.00               1             300   \n",
       "3667          NaN          $100.00               1              24   \n",
       "287        $65.00          $200.00               2             365   \n",
       "1783       $50.00              NaN               1             365   \n",
       "...           ...              ...             ...             ...   \n",
       "1560       $35.00              NaN               2            1125   \n",
       "959        $30.00              NaN               2            1125   \n",
       "2805       $25.00          $200.00               3              14   \n",
       "3217          NaN              NaN               1            1125   \n",
       "2262          NaN              NaN               3            1125   \n",
       "\n",
       "      number_of_reviews   latitude  longitude        city zipcode state  \n",
       "3393                  2  38.934368 -77.059080  Washington   20008    DC  \n",
       "3359                  0  38.937169 -77.074239  Washington   20016    DC  \n",
       "3667                167  38.885347 -76.981833  Washington   20003    DC  \n",
       "287                  47  38.907245 -77.048975  Washington   20037    DC  \n",
       "1783                  8  38.950600 -77.085841  Washington   20016    DC  \n",
       "...                 ...        ...        ...         ...     ...   ...  \n",
       "1560                  9  38.938868 -77.019719  Washington   20011    DC  \n",
       "959                   0  38.917604 -77.037196  Washington   20009    DC  \n",
       "2805                 31  38.928605 -77.029234  Washington   20010    DC  \n",
       "3217                  0  38.935041 -76.982252  Washington   20017    DC  \n",
       "2262                  0  38.905067 -76.996435  Washington   20002    DC  \n",
       "\n",
       "[3723 rows x 19 columns]"
      ]
     },
     "execution_count": 26,
     "metadata": {},
     "output_type": "execute_result"
    }
   ],
   "source": [
    "cpy_dc_listings"
   ]
  },
  {
   "cell_type": "code",
   "execution_count": 27,
   "metadata": {},
   "outputs": [],
   "source": [
    "split_one = cpy_dc_listings.iloc[:1862,:]\n",
    "split_two = cpy_dc_listings.iloc[1862:,:]"
   ]
  },
  {
   "cell_type": "markdown",
   "metadata": {},
   "source": [
    "## Holdout Validation"
   ]
  },
  {
   "cell_type": "code",
   "execution_count": 28,
   "metadata": {},
   "outputs": [],
   "source": [
    "from sklearn.neighbors import KNeighborsRegressor\n",
    "from sklearn.metrics import mean_squared_error\n",
    "\n",
    "train_one = split_one\n",
    "test_one = split_two\n",
    "train_two = split_two\n",
    "test_two = split_one"
   ]
  },
  {
   "cell_type": "code",
   "execution_count": 29,
   "metadata": {},
   "outputs": [],
   "source": [
    "x_train_one = train_one['accommodates'].to_frame()# need convert series to frame\n",
    "y_train_one = train_one['price']\n",
    "x_test_one = test_one['accommodates'].to_frame()\n",
    "y_test_one = test_one['price']\n",
    "\n",
    "x_train_two = train_two['accommodates'].to_frame()\n",
    "y_train_two = train_two['price']\n",
    "x_test_two = test_two['accommodates'].to_frame()\n",
    "y_test_two = test_two['price']"
   ]
  },
  {
   "cell_type": "code",
   "execution_count": 32,
   "metadata": {},
   "outputs": [],
   "source": [
    "knn = KNeighborsRegressor(n_neighbors=5, algorithm='auto')\n",
    "\n",
    "knn.fit(x_train_one, y_train_one)\n",
    "predictions = knn.predict(x_test_one)\n",
    "iteration_one_rmse = mean_squared_error(y_test_one, predictions)**0.5"
   ]
  },
  {
   "cell_type": "code",
   "execution_count": 33,
   "metadata": {},
   "outputs": [],
   "source": [
    "knn = KNeighborsRegressor(n_neighbors=5, algorithm='auto')\n",
    "\n",
    "knn.fit(x_train_two, y_train_two)\n",
    "predictions = knn.predict(x_test_two)\n",
    "iteration_two_rmse = mean_squared_error(y_test_two, predictions)**0.5"
   ]
  },
  {
   "cell_type": "code",
   "execution_count": 34,
   "metadata": {},
   "outputs": [],
   "source": [
    "avg_rmse = np.mean([iteration_one_rmse, iteration_two_rmse])"
   ]
  },
  {
   "cell_type": "code",
   "execution_count": 35,
   "metadata": {},
   "outputs": [
    {
     "name": "stdout",
     "output_type": "stream",
     "text": [
      "131.68732919536032 125.61653427877448 128.6519317370674\n"
     ]
    }
   ],
   "source": [
    "print(iteration_one_rmse, iteration_two_rmse, avg_rmse)"
   ]
  },
  {
   "cell_type": "markdown",
   "metadata": {},
   "source": [
    "## K-Fold Cross Validation"
   ]
  },
  {
   "cell_type": "markdown",
   "metadata": {},
   "source": [
    "**Holdout validation** is essentially `a version` of **k-fold cross** validation when `k` is equal to `2`. Generally, `5` or `10` folds is used for k-fold cross-validation. Here's a diagram describing each iteration of 5-fold cross validation:"
   ]
  },
  {
   "cell_type": "markdown",
   "metadata": {},
   "source": [
    "![Jupyter](./kfold_cross_validation.png)"
   ]
  },
  {
   "cell_type": "code",
   "execution_count": 48,
   "metadata": {},
   "outputs": [],
   "source": [
    "dc_listings.loc[0:744, 'fold']  = 1"
   ]
  },
  {
   "cell_type": "code",
   "execution_count": 49,
   "metadata": {},
   "outputs": [],
   "source": [
    "dc_listings.loc[745:1489, 'fold']  = 2"
   ]
  },
  {
   "cell_type": "code",
   "execution_count": 50,
   "metadata": {},
   "outputs": [],
   "source": [
    "dc_listings.loc[1490:2233, 'fold']  = 3"
   ]
  },
  {
   "cell_type": "code",
   "execution_count": 51,
   "metadata": {},
   "outputs": [],
   "source": [
    "dc_listings.loc[2234:2977, 'fold']  = 4"
   ]
  },
  {
   "cell_type": "code",
   "execution_count": 52,
   "metadata": {},
   "outputs": [],
   "source": [
    "dc_listings.loc[2978:3722, 'fold']  = 5"
   ]
  },
  {
   "cell_type": "code",
   "execution_count": 53,
   "metadata": {},
   "outputs": [
    {
     "data": {
      "text/plain": [
       "5.0    745\n",
       "2.0    745\n",
       "1.0    745\n",
       "4.0    744\n",
       "3.0    744\n",
       "Name: fold, dtype: int64"
      ]
     },
     "execution_count": 53,
     "metadata": {},
     "output_type": "execute_result"
    }
   ],
   "source": [
    "dc_listings['fold'].value_counts()"
   ]
  },
  {
   "cell_type": "code",
   "execution_count": 55,
   "metadata": {},
   "outputs": [
    {
     "data": {
      "text/plain": [
       "0"
      ]
     },
     "execution_count": 55,
     "metadata": {},
     "output_type": "execute_result"
    }
   ],
   "source": [
    "dc_listings['fold'].isnull().sum()"
   ]
  },
  {
   "cell_type": "markdown",
   "metadata": {},
   "source": [
    "## First iteration"
   ]
  },
  {
   "cell_type": "code",
   "execution_count": 63,
   "metadata": {},
   "outputs": [],
   "source": [
    "x_train_first_fold = dc_listings[dc_listings['fold'].isin(range(2,6))][['accommodates']]\n",
    "y_train_first_fold = dc_listings[dc_listings['fold'].isin(range(2,6))]['price']"
   ]
  },
  {
   "cell_type": "code",
   "execution_count": 64,
   "metadata": {},
   "outputs": [],
   "source": [
    "x_test_first_fold = dc_listings[dc_listings['fold'] == 1][['accommodates']]\n",
    "y_test_first_fold = dc_listings[dc_listings['fold'] == 1]['price']"
   ]
  },
  {
   "cell_type": "code",
   "execution_count": 69,
   "metadata": {},
   "outputs": [],
   "source": [
    "knn = KNeighborsRegressor(n_neighbors=5, algorithm='auto')\n",
    "knn.fit(x_train_first_fold, y_train_first_fold)\n",
    "predictions = knn.predict(x_test_first_fold)\n",
    "\n",
    "iteration_one_rmse = mean_squared_error(y_test_first_fold, predictions)**0.5"
   ]
  },
  {
   "cell_type": "code",
   "execution_count": 70,
   "metadata": {},
   "outputs": [
    {
     "data": {
      "text/plain": [
       "123.64816897663778"
      ]
     },
     "execution_count": 70,
     "metadata": {},
     "output_type": "execute_result"
    }
   ],
   "source": [
    "iteration_one_rmse"
   ]
  },
  {
   "cell_type": "markdown",
   "metadata": {},
   "source": [
    "## Function for training models"
   ]
  },
  {
   "cell_type": "code",
   "execution_count": 78,
   "metadata": {},
   "outputs": [],
   "source": [
    "import numpy as np\n",
    "fold_ids = [1,2,3,4,5]\n",
    "\n",
    "def train_and_validate(df, folds):\n",
    "    rmses = []\n",
    "    for test_fold in fold_ids:\n",
    "        \n",
    "        train_folds = list(set(fold_ids) - set([test_fold]))\n",
    "        \n",
    "        x_train_first_fold = dc_listings[dc_listings['fold'].isin(train_folds)][['accommodates']]\n",
    "        y_train_first_fold = dc_listings[dc_listings['fold'].isin(train_folds)]['price']\n",
    "        x_test_first_fold = dc_listings[dc_listings['fold'] == test_fold][['accommodates']]\n",
    "        y_test_first_fold = dc_listings[dc_listings['fold'] == test_fold]['price']\n",
    "        \n",
    "        knn = KNeighborsRegressor(n_neighbors=5, algorithm='auto')\n",
    "        knn.fit(x_train_first_fold, y_train_first_fold)\n",
    "        predictions = knn.predict(x_test_first_fold)\n",
    "        \n",
    "        rmse = mean_squared_error(y_test_first_fold, predictions)**0.5\n",
    "        rmses.append(rmse)\n",
    "    \n",
    "    return rmses"
   ]
  },
  {
   "cell_type": "code",
   "execution_count": 79,
   "metadata": {},
   "outputs": [],
   "source": [
    "rmses = train_and_validate(dc_listings, fold_ids)\n",
    "avg_rmse = np.mean(rmses)"
   ]
  },
  {
   "cell_type": "code",
   "execution_count": 80,
   "metadata": {},
   "outputs": [
    {
     "name": "stdout",
     "output_type": "stream",
     "text": [
      "[123.64816897663778, 104.90933995950148, 164.72575286188246, 102.32103626510822, 148.42036980986353]\n",
      "128.8049335745987\n"
     ]
    }
   ],
   "source": [
    "print(rmses)\n",
    "print(avg_rmse)"
   ]
  },
  {
   "cell_type": "code",
   "execution_count": 77,
   "metadata": {},
   "outputs": [
    {
     "data": {
      "text/plain": [
       "{2, 3, 4, 5}"
      ]
     },
     "execution_count": 77,
     "metadata": {},
     "output_type": "execute_result"
    }
   ],
   "source": [
    "fold_ids = [1,2,3,4,5]\n",
    "a = 1\n",
    "set(fold_ids) - set([a])"
   ]
  },
  {
   "cell_type": "markdown",
   "metadata": {},
   "source": [
    "## Performing K-Fold Cross Validation Using Scikit-Learn"
   ]
  },
  {
   "cell_type": "markdown",
   "metadata": {},
   "source": [
    "In machine learning, we're interested in building a good model and accurately understanding how well it will perform. \n",
    "* To build a better k-nearest neighbors model, we can change the features it uses or tweak the number of neighbors (a hyperparameter). \n",
    "* To accurately understand a model's performance, we can perform k-fold cross validation and select the proper number of folds. "
   ]
  },
  {
   "cell_type": "markdown",
   "metadata": {},
   "source": [
    "Here's the general workflow for performing k-fold cross-validation using the classes we just described:\n",
    "\n",
    "* instantiate the scikit-learn model class you want to fit,\n",
    "* instantiate the `KFold` class and using the parameters to specify the k-fold cross-validation attributes you want,\n",
    "* use the `cross_val_score()` function to return the scoring metric you're interested in."
   ]
  },
  {
   "cell_type": "code",
   "execution_count": 86,
   "metadata": {},
   "outputs": [
    {
     "data": {
      "text/plain": [
       "array([13779.82990604, 18843.18802685, 21335.28257718, 11314.62688172,\n",
       "       21244.80607527])"
      ]
     },
     "execution_count": 86,
     "metadata": {},
     "output_type": "execute_result"
    }
   ],
   "source": [
    "from sklearn.model_selection import KFold\n",
    "from sklearn.model_selection import cross_val_score\n",
    "\n",
    "kf = KFold(n_splits=5, shuffle=True, random_state=1)\n",
    "\n",
    "knn = KNeighborsRegressor(n_neighbors=5, algorithm='auto')\n",
    "\n",
    "mses = cross_val_score(knn, dc_listings[['accommodates']], dc_listings['price'], scoring='neg_root_mean_squared_error', cv=kf)\n",
    "\n",
    "np.abs(mses)"
   ]
  },
  {
   "cell_type": "code",
   "execution_count": 95,
   "metadata": {},
   "outputs": [],
   "source": [
    "avg_rmse = sum(list(map(lambda x: x**0.5, list(np.abs(mses))))) / len(mses)"
   ]
  },
  {
   "cell_type": "code",
   "execution_count": 96,
   "metadata": {},
   "outputs": [
    {
     "data": {
      "text/plain": [
       "130.57004998596955"
      ]
     },
     "execution_count": 96,
     "metadata": {},
     "output_type": "execute_result"
    }
   ],
   "source": [
    "avg_rmse"
   ]
  },
  {
   "cell_type": "markdown",
   "metadata": {},
   "source": [
    "## Exploring Different K Values"
   ]
  },
  {
   "cell_type": "code",
   "execution_count": 98,
   "metadata": {},
   "outputs": [
    {
     "name": "stdout",
     "output_type": "stream",
     "text": [
      "3 folds:  avg RMSE:  127.19146799819767 std RMSE:  7.80114274447321\n",
      "5 folds:  avg RMSE:  130.57004998596955 std RMSE:  15.968993082617418\n",
      "7 folds:  avg RMSE:  124.74000565490935 std RMSE:  23.009326104623764\n",
      "9 folds:  avg RMSE:  133.85427296864364 std RMSE:  20.275996691809862\n",
      "10 folds:  avg RMSE:  134.50358073016668 std RMSE:  30.83892745302988\n",
      "11 folds:  avg RMSE:  129.58548991863123 std RMSE:  22.39316430178567\n",
      "13 folds:  avg RMSE:  133.05101345639838 std RMSE:  27.88932598342725\n",
      "15 folds:  avg RMSE:  124.86715246014936 std RMSE:  37.03384132069149\n",
      "17 folds:  avg RMSE:  131.3786960290144 std RMSE:  40.043451719093724\n",
      "19 folds:  avg RMSE:  129.0143524209374 std RMSE:  44.3383982741942\n",
      "21 folds:  avg RMSE:  125.49498964946545 std RMSE:  41.03033829748872\n",
      "23 folds:  avg RMSE:  125.27939162120605 std RMSE:  41.668089858618046\n"
     ]
    }
   ],
   "source": [
    "num_folds = [3, 5, 7, 9, 10, 11, 13, 15, 17, 19, 21, 23]\n",
    "\n",
    "for fold in num_folds:\n",
    "    kf = KFold(fold, shuffle=True, random_state=1)\n",
    "    model = KNeighborsRegressor()\n",
    "    neg_rmses = cross_val_score(model, dc_listings[[\"accommodates\"]], dc_listings[\"price\"], scoring=\"neg_root_mean_squared_error\", cv=kf)\n",
    "    rmses = np.absolute(neg_rmses)\n",
    "    avg_rmse = np.mean(rmses)\n",
    "    std_rmse = np.std(rmses)\n",
    "    print(str(fold), \"folds: \", \"avg RMSE: \", str(avg_rmse), \"std RMSE: \", str(std_rmse))"
   ]
  },
  {
   "cell_type": "markdown",
   "metadata": {},
   "source": [
    "## Bias-Variance Tradeoff"
   ]
  },
  {
   "cell_type": "markdown",
   "metadata": {},
   "source": [
    " A model has two sources of error, **bias** and **variance**.\n",
    " \n",
    "* **`Bias`** describes error that results in bad assumptions about the learning algorithm. For example, assuming that only one feature, like a car's weight, relates to a car's fuel efficiency will lead you to fit a simple, univariate regression model that will result in high bias. The error rate will be high since a car's fuel efficiency is affected by many other factors besides just its weight.\n",
    "\n",
    "* **`Variance`** describes error that occurs because of the variability of a model's predicted values. If we were given a dataset with 1000 features on each car and used every single feature to train an incredibly complicated multivariate regression model, we will have low bias but high variance. In an ideal world, we want low bias and low variance but in reality, there's always a tradeoff."
   ]
  },
  {
   "cell_type": "markdown",
   "metadata": {},
   "source": [
    "The standard deviation of the RMSE values can be a proxy for a model's variance while the average RMSE is a proxy for a model's bias. Bias and variance are the 2 observable sources of error in a model that we can indirectly control."
   ]
  },
  {
   "cell_type": "markdown",
   "metadata": {},
   "source": [
    "![Jupyter](./bias_variance.png)"
   ]
  },
  {
   "cell_type": "code",
   "execution_count": null,
   "metadata": {},
   "outputs": [],
   "source": []
  }
 ],
 "metadata": {
  "kernelspec": {
   "display_name": "Python 3",
   "language": "python",
   "name": "python3"
  },
  "language_info": {
   "codemirror_mode": {
    "name": "ipython",
    "version": 3
   },
   "file_extension": ".py",
   "mimetype": "text/x-python",
   "name": "python",
   "nbconvert_exporter": "python",
   "pygments_lexer": "ipython3",
   "version": "3.6.8"
  },
  "toc": {
   "base_numbering": 1,
   "nav_menu": {},
   "number_sections": true,
   "sideBar": true,
   "skip_h1_title": false,
   "title_cell": "Table of Contents",
   "title_sidebar": "Contents",
   "toc_cell": false,
   "toc_position": {},
   "toc_section_display": true,
   "toc_window_display": false
  }
 },
 "nbformat": 4,
 "nbformat_minor": 4
}
