{
 "cells": [
  {
   "cell_type": "markdown",
   "metadata": {},
   "source": [
    "## Problem definition"
   ]
  },
  {
   "cell_type": "markdown",
   "metadata": {},
   "source": [
    "As a host, if we try to charge above market price for a living space we'd like to rent, then renters will select more affordable alternatives which are similar to ours. If we set our nightly rent price too low, we'll miss out on potential revenue.\n",
    "\n",
    "One strategy we could use is to:\n",
    "\n",
    "* find a few listings that are similar to ours,\n",
    "* average the listed price for the ones most similar to ours,\n",
    "* set our listing price to this calculated average price.\n",
    "\n",
    "The process of discovering patterns in existing data to make a prediction is called **machine learning**. In our case, we want to use data on local listings to predict the optimal price for us to set. In this mission, we'll explore a specific machine learning technique called k-nearest neighbors, which mirrors the strategy we just described. Before we dive further into machine learning and **k-nearest neighbors**, let's get familiar with the dataset we'll be working with."
   ]
  },
  {
   "cell_type": "markdown",
   "metadata": {},
   "source": [
    "## Introduction to the data"
   ]
  },
  {
   "cell_type": "code",
   "execution_count": 2,
   "metadata": {},
   "outputs": [
    {
     "name": "stdout",
     "output_type": "stream",
     "text": [
      "     host_response_rate host_acceptance_rate  host_listings_count  \\\n",
      "0                   92%                  91%                   26   \n",
      "1                   90%                 100%                    1   \n",
      "2                   90%                 100%                    2   \n",
      "3                  100%                  NaN                    1   \n",
      "4                   92%                  67%                    1   \n",
      "...                 ...                  ...                  ...   \n",
      "3718               100%                  60%                    1   \n",
      "3719               100%                  50%                    1   \n",
      "3720               100%                 100%                    2   \n",
      "3721                88%                 100%                    1   \n",
      "3722                70%                 100%                    1   \n",
      "\n",
      "      accommodates        room_type  bedrooms  bathrooms  beds    price  \\\n",
      "0                4  Entire home/apt       1.0        1.0   2.0  $160.00   \n",
      "1                6  Entire home/apt       3.0        3.0   3.0  $350.00   \n",
      "2                1     Private room       1.0        2.0   1.0   $50.00   \n",
      "3                2     Private room       1.0        1.0   1.0   $95.00   \n",
      "4                4  Entire home/apt       1.0        1.0   1.0   $50.00   \n",
      "...            ...              ...       ...        ...   ...      ...   \n",
      "3718             4  Entire home/apt       1.0        1.0   2.0  $135.00   \n",
      "3719             2     Private room       1.0        2.0   1.0   $79.00   \n",
      "3720             6  Entire home/apt       2.0        1.0   3.0  $275.00   \n",
      "3721             2  Entire home/apt       1.0        1.0   1.0  $179.00   \n",
      "3722             3  Entire home/apt       0.0        1.0   1.0  $110.00   \n",
      "\n",
      "     cleaning_fee security_deposit  minimum_nights  maximum_nights  \\\n",
      "0         $115.00          $100.00               1            1125   \n",
      "1         $100.00              NaN               2              30   \n",
      "2             NaN              NaN               2            1125   \n",
      "3             NaN              NaN               1            1125   \n",
      "4          $15.00          $450.00               7            1125   \n",
      "...           ...              ...             ...             ...   \n",
      "3718       $45.00          $400.00               3              60   \n",
      "3719          NaN              NaN               3             365   \n",
      "3720      $100.00          $500.00               2      2147483647   \n",
      "3721       $25.00              NaN               2              21   \n",
      "3722       $40.00          $200.00               2            1125   \n",
      "\n",
      "      number_of_reviews   latitude  longitude           city zipcode state  \n",
      "0                     0  38.890046 -77.002808     Washington   20003    DC  \n",
      "1                    65  38.880413 -76.990485     Washington   20003    DC  \n",
      "2                     1  38.955291 -76.986006    Hyattsville   20782    MD  \n",
      "3                     0  38.872134 -77.019639     Washington   20024    DC  \n",
      "4                     0  38.996382 -77.041541  Silver Spring   20910    MD  \n",
      "...                 ...        ...        ...            ...     ...   ...  \n",
      "3718                 19  38.885492 -76.987765     Washington   20003    DC  \n",
      "3719                 36  38.889401 -76.986646     Washington   20003    DC  \n",
      "3720                 12  38.889533 -77.001010     Washington   20003    DC  \n",
      "3721                 48  38.890815 -77.002283     Washington   20002    DC  \n",
      "3722                  1  38.883646 -76.999810     Washington   20003    DC  \n",
      "\n",
      "[3723 rows x 19 columns]\n"
     ]
    }
   ],
   "source": [
    "import pandas as pd\n",
    "\n",
    "dc_listings = pd.read_csv('dc_airbnb.csv')\n",
    "print(dc_listings)"
   ]
  },
  {
   "cell_type": "markdown",
   "metadata": {},
   "source": [
    "## Euclidean distance"
   ]
  },
  {
   "cell_type": "code",
   "execution_count": 7,
   "metadata": {},
   "outputs": [
    {
     "name": "stdout",
     "output_type": "stream",
     "text": [
      "1.0\n"
     ]
    }
   ],
   "source": [
    "import numpy as np\n",
    "dc_listings.loc[0, 'accommodates']\n",
    "\n",
    "first_distance = np.linalg.norm(dc_listings.loc[0, 'accommodates'] - 3) \n",
    "\n",
    "print(first_distance)"
   ]
  },
  {
   "cell_type": "markdown",
   "metadata": {},
   "source": [
    "## Calculate distance for all observations"
   ]
  },
  {
   "cell_type": "code",
   "execution_count": 9,
   "metadata": {},
   "outputs": [],
   "source": [
    "dc_listings['distance'] = dc_listings.accommodates.apply(lambda x: abs(x-3))\n"
   ]
  },
  {
   "cell_type": "code",
   "execution_count": 10,
   "metadata": {},
   "outputs": [
    {
     "data": {
      "text/plain": [
       "1     2294\n",
       "2      503\n",
       "0      461\n",
       "3      279\n",
       "5       73\n",
       "4       35\n",
       "7       22\n",
       "6       17\n",
       "9       12\n",
       "13       8\n",
       "8        7\n",
       "12       6\n",
       "11       4\n",
       "10       2\n",
       "Name: distance, dtype: int64"
      ]
     },
     "execution_count": 10,
     "metadata": {},
     "output_type": "execute_result"
    }
   ],
   "source": [
    "dc_listings['distance'].value_counts()"
   ]
  },
  {
   "cell_type": "markdown",
   "metadata": {},
   "source": [
    "## Randomizing, and sorting"
   ]
  },
  {
   "cell_type": "code",
   "execution_count": 12,
   "metadata": {},
   "outputs": [
    {
     "data": {
      "text/plain": [
       "array([ 182, 2501, 2292, ..., 2740, 2590,  248], dtype=int64)"
      ]
     },
     "execution_count": 12,
     "metadata": {},
     "output_type": "execute_result"
    }
   ],
   "source": [
    "np.random.permutation(dc_listings.index)"
   ]
  },
  {
   "cell_type": "code",
   "execution_count": 14,
   "metadata": {},
   "outputs": [],
   "source": [
    "dc_listings = dc_listings.loc[np.random.permutation(dc_listings.index), :]"
   ]
  },
  {
   "cell_type": "code",
   "execution_count": 17,
   "metadata": {},
   "outputs": [],
   "source": [
    "dc_listings = dc_listings.sort_values(by='distance')"
   ]
  },
  {
   "cell_type": "code",
   "execution_count": 19,
   "metadata": {},
   "outputs": [
    {
     "data": {
      "text/plain": [
       "3219     $99.00\n",
       "2957    $120.00\n",
       "1015    $139.00\n",
       "2868    $125.00\n",
       "2744    $100.00\n",
       "1177    $200.00\n",
       "930     $100.00\n",
       "2893    $145.00\n",
       "2348    $138.00\n",
       "2327    $115.00\n",
       "Name: price, dtype: object"
      ]
     },
     "execution_count": 19,
     "metadata": {},
     "output_type": "execute_result"
    }
   ],
   "source": [
    "dc_listings.price.head(10)"
   ]
  },
  {
   "cell_type": "markdown",
   "metadata": {},
   "source": [
    "## Average price"
   ]
  },
  {
   "cell_type": "code",
   "execution_count": 22,
   "metadata": {},
   "outputs": [],
   "source": [
    "dc_listings.price = dc_listings.price.map(lambda x: x.replace(',','')).map(lambda x: x.replace('$','')).astype(float)"
   ]
  },
  {
   "cell_type": "code",
   "execution_count": 36,
   "metadata": {},
   "outputs": [],
   "source": [
    "mean_price = dc_listings.price[:5].mean()"
   ]
  },
  {
   "cell_type": "code",
   "execution_count": 37,
   "metadata": {},
   "outputs": [
    {
     "name": "stdout",
     "output_type": "stream",
     "text": [
      "116.6\n"
     ]
    }
   ],
   "source": [
    "print(mean_price)"
   ]
  },
  {
   "cell_type": "markdown",
   "metadata": {},
   "source": [
    "## Function to make predictions"
   ]
  },
  {
   "cell_type": "code",
   "execution_count": 38,
   "metadata": {},
   "outputs": [],
   "source": [
    "# Brought along the changes we made to the `dc_listings` Dataframe.\n",
    "dc_listings = pd.read_csv('dc_airbnb.csv')\n",
    "stripped_commas = dc_listings['price'].str.replace(',', '')\n",
    "stripped_dollars = stripped_commas.str.replace('$', '')\n",
    "dc_listings['price'] = stripped_dollars.astype('float')\n",
    "dc_listings = dc_listings.loc[np.random.permutation(len(dc_listings))]\n",
    "\n",
    "def predict_price(new_listing):\n",
    "    temp_df = dc_listings.copy()\n",
    "    ## Complete the function.\n",
    "    temp_df['distance'] = temp_df.accommodates.apply(lambda x: abs(x - new_listing))\n",
    "    new_listing = temp_df.sort_values(by='distance').head().price.mean()\n",
    "    return(new_listing)\n",
    "\n",
    "acc_one = predict_price(1)\n",
    "acc_two = predict_price(2)\n",
    "acc_four = predict_price(4)"
   ]
  },
  {
   "cell_type": "code",
   "execution_count": null,
   "metadata": {},
   "outputs": [],
   "source": []
  }
 ],
 "metadata": {
  "kernelspec": {
   "display_name": "Python 3",
   "language": "python",
   "name": "python3"
  },
  "language_info": {
   "codemirror_mode": {
    "name": "ipython",
    "version": 3
   },
   "file_extension": ".py",
   "mimetype": "text/x-python",
   "name": "python",
   "nbconvert_exporter": "python",
   "pygments_lexer": "ipython3",
   "version": "3.6.8"
  },
  "toc": {
   "base_numbering": 1,
   "nav_menu": {},
   "number_sections": true,
   "sideBar": true,
   "skip_h1_title": false,
   "title_cell": "Table of Contents",
   "title_sidebar": "Contents",
   "toc_cell": false,
   "toc_position": {},
   "toc_section_display": true,
   "toc_window_display": false
  }
 },
 "nbformat": 4,
 "nbformat_minor": 4
}
