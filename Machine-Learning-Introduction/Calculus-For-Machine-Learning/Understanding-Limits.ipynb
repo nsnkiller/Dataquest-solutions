{
 "cells": [
  {
   "cell_type": "markdown",
   "metadata": {},
   "source": [
    "## Limits Using SymPy"
   ]
  },
  {
   "cell_type": "code",
   "execution_count": 3,
   "metadata": {},
   "outputs": [
    {
     "name": "stdout",
     "output_type": "stream",
     "text": [
      "-2.89999999999999\n"
     ]
    }
   ],
   "source": [
    "import sympy\n",
    "\n",
    "x2,y = sympy.symbols('x2 y')\n",
    "\n",
    "y = (-x2**2 +3*x2-1+1)/(x2-3)\n",
    "\n",
    "limit_one = sympy.limit(y, x2, 2.9)\n",
    "\n",
    "print(limit_one)"
   ]
  },
  {
   "cell_type": "markdown",
   "metadata": {},
   "source": [
    "## Properties Of Limits I"
   ]
  },
  {
   "cell_type": "code",
   "execution_count": 5,
   "metadata": {},
   "outputs": [
    {
     "name": "stdout",
     "output_type": "stream",
     "text": [
      "3\n"
     ]
    }
   ],
   "source": [
    "x,y = sympy.symbols('x y')\n",
    "\n",
    "y = 3*x**2+3*x-3\n",
    "limit_two = sympy.limit(y, x, 1)\n",
    "print(limit_two)"
   ]
  },
  {
   "cell_type": "markdown",
   "metadata": {},
   "source": [
    "## Properties Of Limits II"
   ]
  },
  {
   "cell_type": "code",
   "execution_count": 7,
   "metadata": {},
   "outputs": [
    {
     "name": "stdout",
     "output_type": "stream",
     "text": [
      "11\n"
     ]
    }
   ],
   "source": [
    "x,y = sympy.symbols('x y')\n",
    "\n",
    "y = x**3+2*x**2-10*x\n",
    "\n",
    "limit_three = sympy.limit(x**3, x, -1) + sympy.limit(2*x**2, x, -1) - 10*sympy.limit(x, x, -1)\n",
    "\n",
    "print(limit_three)"
   ]
  },
  {
   "cell_type": "markdown",
   "metadata": {},
   "source": [
    "## Undefined Limit To Defined Limit"
   ]
  },
  {
   "cell_type": "code",
   "execution_count": 11,
   "metadata": {},
   "outputs": [
    {
     "name": "stdout",
     "output_type": "stream",
     "text": [
      "-3\n"
     ]
    }
   ],
   "source": [
    "y = (-x2**2 +3*x2-1+1)/(x2-3)\n",
    "\n",
    "limit_four = sympy.limit(y, x2, 3)\n",
    "\n",
    "print(limit_four)"
   ]
  },
  {
   "cell_type": "code",
   "execution_count": null,
   "metadata": {},
   "outputs": [],
   "source": []
  }
 ],
 "metadata": {
  "kernelspec": {
   "display_name": "Python 3",
   "language": "python",
   "name": "python3"
  },
  "language_info": {
   "codemirror_mode": {
    "name": "ipython",
    "version": 3
   },
   "file_extension": ".py",
   "mimetype": "text/x-python",
   "name": "python",
   "nbconvert_exporter": "python",
   "pygments_lexer": "ipython3",
   "version": "3.6.8"
  },
  "toc": {
   "base_numbering": 1,
   "nav_menu": {},
   "number_sections": true,
   "sideBar": true,
   "skip_h1_title": false,
   "title_cell": "Table of Contents",
   "title_sidebar": "Contents",
   "toc_cell": false,
   "toc_position": {},
   "toc_section_display": true,
   "toc_window_display": false
  }
 },
 "nbformat": 4,
 "nbformat_minor": 4
}
