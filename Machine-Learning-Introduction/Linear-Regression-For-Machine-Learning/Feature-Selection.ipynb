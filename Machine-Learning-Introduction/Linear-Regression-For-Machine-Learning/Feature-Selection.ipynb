{
 "cells": [
  {
   "cell_type": "markdown",
   "metadata": {},
   "source": [
    "## Missing Values"
   ]
  },
  {
   "cell_type": "code",
   "execution_count": 1,
   "metadata": {},
   "outputs": [],
   "source": [
    "import pandas as pd\n",
    "data = pd.read_csv('AmesHousing.txt', delimiter=\"\\t\")\n",
    "train = data[0:1460]\n",
    "test = data[1460:]"
   ]
  },
  {
   "cell_type": "code",
   "execution_count": 2,
   "metadata": {},
   "outputs": [
    {
     "name": "stdout",
     "output_type": "stream",
     "text": [
      "<class 'pandas.core.frame.DataFrame'>\n",
      "RangeIndex: 1460 entries, 0 to 1459\n",
      "Data columns (total 82 columns):\n",
      " #   Column           Non-Null Count  Dtype  \n",
      "---  ------           --------------  -----  \n",
      " 0   Order            1460 non-null   int64  \n",
      " 1   PID              1460 non-null   int64  \n",
      " 2   MS SubClass      1460 non-null   int64  \n",
      " 3   MS Zoning        1460 non-null   object \n",
      " 4   Lot Frontage     1211 non-null   float64\n",
      " 5   Lot Area         1460 non-null   int64  \n",
      " 6   Street           1460 non-null   object \n",
      " 7   Alley            109 non-null    object \n",
      " 8   Lot Shape        1460 non-null   object \n",
      " 9   Land Contour     1460 non-null   object \n",
      " 10  Utilities        1460 non-null   object \n",
      " 11  Lot Config       1460 non-null   object \n",
      " 12  Land Slope       1460 non-null   object \n",
      " 13  Neighborhood     1460 non-null   object \n",
      " 14  Condition 1      1460 non-null   object \n",
      " 15  Condition 2      1460 non-null   object \n",
      " 16  Bldg Type        1460 non-null   object \n",
      " 17  House Style      1460 non-null   object \n",
      " 18  Overall Qual     1460 non-null   int64  \n",
      " 19  Overall Cond     1460 non-null   int64  \n",
      " 20  Year Built       1460 non-null   int64  \n",
      " 21  Year Remod/Add   1460 non-null   int64  \n",
      " 22  Roof Style       1460 non-null   object \n",
      " 23  Roof Matl        1460 non-null   object \n",
      " 24  Exterior 1st     1460 non-null   object \n",
      " 25  Exterior 2nd     1460 non-null   object \n",
      " 26  Mas Vnr Type     1449 non-null   object \n",
      " 27  Mas Vnr Area     1449 non-null   float64\n",
      " 28  Exter Qual       1460 non-null   object \n",
      " 29  Exter Cond       1460 non-null   object \n",
      " 30  Foundation       1460 non-null   object \n",
      " 31  Bsmt Qual        1420 non-null   object \n",
      " 32  Bsmt Cond        1420 non-null   object \n",
      " 33  Bsmt Exposure    1419 non-null   object \n",
      " 34  BsmtFin Type 1   1420 non-null   object \n",
      " 35  BsmtFin SF 1     1459 non-null   float64\n",
      " 36  BsmtFin Type 2   1419 non-null   object \n",
      " 37  BsmtFin SF 2     1459 non-null   float64\n",
      " 38  Bsmt Unf SF      1459 non-null   float64\n",
      " 39  Total Bsmt SF    1459 non-null   float64\n",
      " 40  Heating          1460 non-null   object \n",
      " 41  Heating QC       1460 non-null   object \n",
      " 42  Central Air      1460 non-null   object \n",
      " 43  Electrical       1460 non-null   object \n",
      " 44  1st Flr SF       1460 non-null   int64  \n",
      " 45  2nd Flr SF       1460 non-null   int64  \n",
      " 46  Low Qual Fin SF  1460 non-null   int64  \n",
      " 47  Gr Liv Area      1460 non-null   int64  \n",
      " 48  Bsmt Full Bath   1459 non-null   float64\n",
      " 49  Bsmt Half Bath   1459 non-null   float64\n",
      " 50  Full Bath        1460 non-null   int64  \n",
      " 51  Half Bath        1460 non-null   int64  \n",
      " 52  Bedroom AbvGr    1460 non-null   int64  \n",
      " 53  Kitchen AbvGr    1460 non-null   int64  \n",
      " 54  Kitchen Qual     1460 non-null   object \n",
      " 55  TotRms AbvGrd    1460 non-null   int64  \n",
      " 56  Functional       1460 non-null   object \n",
      " 57  Fireplaces       1460 non-null   int64  \n",
      " 58  Fireplace Qu     743 non-null    object \n",
      " 59  Garage Type      1386 non-null   object \n",
      " 60  Garage Yr Blt    1385 non-null   float64\n",
      " 61  Garage Finish    1385 non-null   object \n",
      " 62  Garage Cars      1460 non-null   float64\n",
      " 63  Garage Area      1460 non-null   float64\n",
      " 64  Garage Qual      1385 non-null   object \n",
      " 65  Garage Cond      1385 non-null   object \n",
      " 66  Paved Drive      1460 non-null   object \n",
      " 67  Wood Deck SF     1460 non-null   int64  \n",
      " 68  Open Porch SF    1460 non-null   int64  \n",
      " 69  Enclosed Porch   1460 non-null   int64  \n",
      " 70  3Ssn Porch       1460 non-null   int64  \n",
      " 71  Screen Porch     1460 non-null   int64  \n",
      " 72  Pool Area        1460 non-null   int64  \n",
      " 73  Pool QC          1 non-null      object \n",
      " 74  Fence            297 non-null    object \n",
      " 75  Misc Feature     60 non-null     object \n",
      " 76  Misc Val         1460 non-null   int64  \n",
      " 77  Mo Sold          1460 non-null   int64  \n",
      " 78  Yr Sold          1460 non-null   int64  \n",
      " 79  Sale Type        1460 non-null   object \n",
      " 80  Sale Condition   1460 non-null   object \n",
      " 81  SalePrice        1460 non-null   int64  \n",
      "dtypes: float64(11), int64(28), object(43)\n",
      "memory usage: 935.4+ KB\n"
     ]
    }
   ],
   "source": [
    "train.info()"
   ]
  },
  {
   "cell_type": "code",
   "execution_count": 3,
   "metadata": {},
   "outputs": [
    {
     "name": "stdout",
     "output_type": "stream",
     "text": [
      "<class 'pandas.core.frame.DataFrame'>\n",
      "RangeIndex: 1460 entries, 0 to 1459\n",
      "Data columns (total 39 columns):\n",
      " #   Column           Non-Null Count  Dtype  \n",
      "---  ------           --------------  -----  \n",
      " 0   Order            1460 non-null   int64  \n",
      " 1   PID              1460 non-null   int64  \n",
      " 2   MS SubClass      1460 non-null   int64  \n",
      " 3   Lot Frontage     1211 non-null   float64\n",
      " 4   Lot Area         1460 non-null   int64  \n",
      " 5   Overall Qual     1460 non-null   int64  \n",
      " 6   Overall Cond     1460 non-null   int64  \n",
      " 7   Year Built       1460 non-null   int64  \n",
      " 8   Year Remod/Add   1460 non-null   int64  \n",
      " 9   Mas Vnr Area     1449 non-null   float64\n",
      " 10  BsmtFin SF 1     1459 non-null   float64\n",
      " 11  BsmtFin SF 2     1459 non-null   float64\n",
      " 12  Bsmt Unf SF      1459 non-null   float64\n",
      " 13  Total Bsmt SF    1459 non-null   float64\n",
      " 14  1st Flr SF       1460 non-null   int64  \n",
      " 15  2nd Flr SF       1460 non-null   int64  \n",
      " 16  Low Qual Fin SF  1460 non-null   int64  \n",
      " 17  Gr Liv Area      1460 non-null   int64  \n",
      " 18  Bsmt Full Bath   1459 non-null   float64\n",
      " 19  Bsmt Half Bath   1459 non-null   float64\n",
      " 20  Full Bath        1460 non-null   int64  \n",
      " 21  Half Bath        1460 non-null   int64  \n",
      " 22  Bedroom AbvGr    1460 non-null   int64  \n",
      " 23  Kitchen AbvGr    1460 non-null   int64  \n",
      " 24  TotRms AbvGrd    1460 non-null   int64  \n",
      " 25  Fireplaces       1460 non-null   int64  \n",
      " 26  Garage Yr Blt    1385 non-null   float64\n",
      " 27  Garage Cars      1460 non-null   float64\n",
      " 28  Garage Area      1460 non-null   float64\n",
      " 29  Wood Deck SF     1460 non-null   int64  \n",
      " 30  Open Porch SF    1460 non-null   int64  \n",
      " 31  Enclosed Porch   1460 non-null   int64  \n",
      " 32  3Ssn Porch       1460 non-null   int64  \n",
      " 33  Screen Porch     1460 non-null   int64  \n",
      " 34  Pool Area        1460 non-null   int64  \n",
      " 35  Misc Val         1460 non-null   int64  \n",
      " 36  Mo Sold          1460 non-null   int64  \n",
      " 37  Yr Sold          1460 non-null   int64  \n",
      " 38  SalePrice        1460 non-null   int64  \n",
      "dtypes: float64(11), int64(28)\n",
      "memory usage: 445.0 KB\n"
     ]
    }
   ],
   "source": [
    "numerical_train = train.select_dtypes(exclude='object')\n",
    "numerical_train.info()"
   ]
  },
  {
   "cell_type": "code",
   "execution_count": 8,
   "metadata": {},
   "outputs": [
    {
     "name": "stderr",
     "output_type": "stream",
     "text": [
      "c:\\users\\test\\appdata\\local\\programs\\python\\python36\\lib\\site-packages\\pandas\\core\\frame.py:3997: SettingWithCopyWarning: \n",
      "A value is trying to be set on a copy of a slice from a DataFrame\n",
      "\n",
      "See the caveats in the documentation: https://pandas.pydata.org/pandas-docs/stable/user_guide/indexing.html#returning-a-view-versus-a-copy\n",
      "  errors=errors,\n"
     ]
    }
   ],
   "source": [
    "cols_to_drop = ['PID', 'Year Built', 'Year Remod/Add', 'Garage Yr Blt', 'Mo Sold', 'Yr Sold']\n",
    "\n",
    "numerical_train.drop(cols_to_drop, axis=1, inplace=True)"
   ]
  },
  {
   "cell_type": "code",
   "execution_count": 11,
   "metadata": {},
   "outputs": [],
   "source": [
    "null_series = numerical_train.isnull().sum()"
   ]
  },
  {
   "cell_type": "code",
   "execution_count": 14,
   "metadata": {},
   "outputs": [],
   "source": [
    "full_cols_series = null_series[null_series == 0]"
   ]
  },
  {
   "cell_type": "markdown",
   "metadata": {},
   "source": [
    "## Correlating Feature Columns With Target Column"
   ]
  },
  {
   "cell_type": "code",
   "execution_count": 16,
   "metadata": {},
   "outputs": [],
   "source": [
    "train_subset = train[full_cols_series.index]"
   ]
  },
  {
   "cell_type": "code",
   "execution_count": 24,
   "metadata": {},
   "outputs": [
    {
     "data": {
      "text/plain": [
       "SalePrice          1.000000\n",
       "Overall Qual       0.804562\n",
       "Gr Liv Area        0.698990\n",
       "Garage Cars        0.663485\n",
       "Garage Area        0.662397\n",
       "1st Flr SF         0.657119\n",
       "Full Bath          0.518194\n",
       "Fireplaces         0.485683\n",
       "TotRms AbvGrd      0.483701\n",
       "Open Porch SF      0.344383\n",
       "Wood Deck SF       0.319104\n",
       "Lot Area           0.274730\n",
       "Half Bath          0.272870\n",
       "2nd Flr SF         0.202352\n",
       "Enclosed Porch     0.165873\n",
       "Pool Area          0.145474\n",
       "Kitchen AbvGr      0.130843\n",
       "Bedroom AbvGr      0.106941\n",
       "Screen Porch       0.100121\n",
       "Overall Cond       0.099395\n",
       "MS SubClass        0.088504\n",
       "Order              0.068181\n",
       "Low Qual Fin SF    0.060352\n",
       "3Ssn Porch         0.038699\n",
       "Misc Val           0.009903\n",
       "Name: SalePrice, dtype: float64"
      ]
     },
     "execution_count": 24,
     "metadata": {},
     "output_type": "execute_result"
    }
   ],
   "source": [
    "sorted_corrs = train_subset.corr()['SalePrice'].abs().sort_values(ascending=False)\n",
    "sorted_corrs"
   ]
  },
  {
   "cell_type": "markdown",
   "metadata": {},
   "source": [
    "## Correlation Matrix Heatmap"
   ]
  },
  {
   "cell_type": "code",
   "execution_count": 25,
   "metadata": {},
   "outputs": [],
   "source": [
    "import seaborn as sns\n",
    "import matplotlib.pyplot as plt"
   ]
  },
  {
   "cell_type": "code",
   "execution_count": 29,
   "metadata": {},
   "outputs": [],
   "source": [
    "strong_corrs = sorted_corrs[sorted_corrs > 0.3]"
   ]
  },
  {
   "cell_type": "code",
   "execution_count": 38,
   "metadata": {},
   "outputs": [
    {
     "data": {
      "text/plain": [
       "SalePrice        1.000000\n",
       "Overall Qual     0.804562\n",
       "Gr Liv Area      0.698990\n",
       "Garage Cars      0.663485\n",
       "Garage Area      0.662397\n",
       "1st Flr SF       0.657119\n",
       "Full Bath        0.518194\n",
       "Fireplaces       0.485683\n",
       "TotRms AbvGrd    0.483701\n",
       "Open Porch SF    0.344383\n",
       "Wood Deck SF     0.319104\n",
       "Name: SalePrice, dtype: float64"
      ]
     },
     "execution_count": 38,
     "metadata": {},
     "output_type": "execute_result"
    }
   ],
   "source": [
    "strong_corrs"
   ]
  },
  {
   "cell_type": "code",
   "execution_count": 37,
   "metadata": {},
   "outputs": [],
   "source": [
    "corrmat = train_subset[strong_corrs.index].corr()"
   ]
  },
  {
   "cell_type": "code",
   "execution_count": 35,
   "metadata": {},
   "outputs": [
    {
     "data": {
      "text/html": [
       "<div>\n",
       "<style scoped>\n",
       "    .dataframe tbody tr th:only-of-type {\n",
       "        vertical-align: middle;\n",
       "    }\n",
       "\n",
       "    .dataframe tbody tr th {\n",
       "        vertical-align: top;\n",
       "    }\n",
       "\n",
       "    .dataframe thead th {\n",
       "        text-align: right;\n",
       "    }\n",
       "</style>\n",
       "<table border=\"1\" class=\"dataframe\">\n",
       "  <thead>\n",
       "    <tr style=\"text-align: right;\">\n",
       "      <th></th>\n",
       "      <th>SalePrice</th>\n",
       "      <th>Overall Qual</th>\n",
       "      <th>Gr Liv Area</th>\n",
       "      <th>Garage Cars</th>\n",
       "      <th>Garage Area</th>\n",
       "      <th>1st Flr SF</th>\n",
       "      <th>Full Bath</th>\n",
       "      <th>Fireplaces</th>\n",
       "      <th>TotRms AbvGrd</th>\n",
       "      <th>Open Porch SF</th>\n",
       "      <th>Wood Deck SF</th>\n",
       "    </tr>\n",
       "  </thead>\n",
       "  <tbody>\n",
       "    <tr>\n",
       "      <th>SalePrice</th>\n",
       "      <td>1.000000</td>\n",
       "      <td>0.804562</td>\n",
       "      <td>0.698990</td>\n",
       "      <td>0.663485</td>\n",
       "      <td>0.662397</td>\n",
       "      <td>0.657119</td>\n",
       "      <td>0.518194</td>\n",
       "      <td>0.485683</td>\n",
       "      <td>0.483701</td>\n",
       "      <td>0.344383</td>\n",
       "      <td>0.319104</td>\n",
       "    </tr>\n",
       "    <tr>\n",
       "      <th>Overall Qual</th>\n",
       "      <td>0.804562</td>\n",
       "      <td>1.000000</td>\n",
       "      <td>0.562903</td>\n",
       "      <td>0.609088</td>\n",
       "      <td>0.581106</td>\n",
       "      <td>0.490056</td>\n",
       "      <td>0.505102</td>\n",
       "      <td>0.386205</td>\n",
       "      <td>0.360203</td>\n",
       "      <td>0.319954</td>\n",
       "      <td>0.260258</td>\n",
       "    </tr>\n",
       "    <tr>\n",
       "      <th>Gr Liv Area</th>\n",
       "      <td>0.698990</td>\n",
       "      <td>0.562903</td>\n",
       "      <td>1.000000</td>\n",
       "      <td>0.498711</td>\n",
       "      <td>0.465366</td>\n",
       "      <td>0.515404</td>\n",
       "      <td>0.625981</td>\n",
       "      <td>0.460746</td>\n",
       "      <td>0.807301</td>\n",
       "      <td>0.321806</td>\n",
       "      <td>0.238396</td>\n",
       "    </tr>\n",
       "    <tr>\n",
       "      <th>Garage Cars</th>\n",
       "      <td>0.663485</td>\n",
       "      <td>0.609088</td>\n",
       "      <td>0.498711</td>\n",
       "      <td>1.000000</td>\n",
       "      <td>0.890509</td>\n",
       "      <td>0.441351</td>\n",
       "      <td>0.468295</td>\n",
       "      <td>0.342560</td>\n",
       "      <td>0.343422</td>\n",
       "      <td>0.190875</td>\n",
       "      <td>0.227391</td>\n",
       "    </tr>\n",
       "    <tr>\n",
       "      <th>Garage Area</th>\n",
       "      <td>0.662397</td>\n",
       "      <td>0.581106</td>\n",
       "      <td>0.465366</td>\n",
       "      <td>0.890509</td>\n",
       "      <td>1.000000</td>\n",
       "      <td>0.477281</td>\n",
       "      <td>0.402743</td>\n",
       "      <td>0.302616</td>\n",
       "      <td>0.295586</td>\n",
       "      <td>0.218563</td>\n",
       "      <td>0.219300</td>\n",
       "    </tr>\n",
       "    <tr>\n",
       "      <th>1st Flr SF</th>\n",
       "      <td>0.657119</td>\n",
       "      <td>0.490056</td>\n",
       "      <td>0.515404</td>\n",
       "      <td>0.441351</td>\n",
       "      <td>0.477281</td>\n",
       "      <td>1.000000</td>\n",
       "      <td>0.341061</td>\n",
       "      <td>0.429662</td>\n",
       "      <td>0.360595</td>\n",
       "      <td>0.191891</td>\n",
       "      <td>0.206013</td>\n",
       "    </tr>\n",
       "    <tr>\n",
       "      <th>Full Bath</th>\n",
       "      <td>0.518194</td>\n",
       "      <td>0.505102</td>\n",
       "      <td>0.625981</td>\n",
       "      <td>0.468295</td>\n",
       "      <td>0.402743</td>\n",
       "      <td>0.341061</td>\n",
       "      <td>1.000000</td>\n",
       "      <td>0.245036</td>\n",
       "      <td>0.517731</td>\n",
       "      <td>0.255968</td>\n",
       "      <td>0.180358</td>\n",
       "    </tr>\n",
       "    <tr>\n",
       "      <th>Fireplaces</th>\n",
       "      <td>0.485683</td>\n",
       "      <td>0.386205</td>\n",
       "      <td>0.460746</td>\n",
       "      <td>0.342560</td>\n",
       "      <td>0.302616</td>\n",
       "      <td>0.429662</td>\n",
       "      <td>0.245036</td>\n",
       "      <td>1.000000</td>\n",
       "      <td>0.307189</td>\n",
       "      <td>0.148664</td>\n",
       "      <td>0.209153</td>\n",
       "    </tr>\n",
       "    <tr>\n",
       "      <th>TotRms AbvGrd</th>\n",
       "      <td>0.483701</td>\n",
       "      <td>0.360203</td>\n",
       "      <td>0.807301</td>\n",
       "      <td>0.343422</td>\n",
       "      <td>0.295586</td>\n",
       "      <td>0.360595</td>\n",
       "      <td>0.517731</td>\n",
       "      <td>0.307189</td>\n",
       "      <td>1.000000</td>\n",
       "      <td>0.222774</td>\n",
       "      <td>0.148162</td>\n",
       "    </tr>\n",
       "    <tr>\n",
       "      <th>Open Porch SF</th>\n",
       "      <td>0.344383</td>\n",
       "      <td>0.319954</td>\n",
       "      <td>0.321806</td>\n",
       "      <td>0.190875</td>\n",
       "      <td>0.218563</td>\n",
       "      <td>0.191891</td>\n",
       "      <td>0.255968</td>\n",
       "      <td>0.148664</td>\n",
       "      <td>0.222774</td>\n",
       "      <td>1.000000</td>\n",
       "      <td>0.039738</td>\n",
       "    </tr>\n",
       "    <tr>\n",
       "      <th>Wood Deck SF</th>\n",
       "      <td>0.319104</td>\n",
       "      <td>0.260258</td>\n",
       "      <td>0.238396</td>\n",
       "      <td>0.227391</td>\n",
       "      <td>0.219300</td>\n",
       "      <td>0.206013</td>\n",
       "      <td>0.180358</td>\n",
       "      <td>0.209153</td>\n",
       "      <td>0.148162</td>\n",
       "      <td>0.039738</td>\n",
       "      <td>1.000000</td>\n",
       "    </tr>\n",
       "  </tbody>\n",
       "</table>\n",
       "</div>"
      ],
      "text/plain": [
       "               SalePrice  Overall Qual  Gr Liv Area  Garage Cars  Garage Area  \\\n",
       "SalePrice       1.000000      0.804562     0.698990     0.663485     0.662397   \n",
       "Overall Qual    0.804562      1.000000     0.562903     0.609088     0.581106   \n",
       "Gr Liv Area     0.698990      0.562903     1.000000     0.498711     0.465366   \n",
       "Garage Cars     0.663485      0.609088     0.498711     1.000000     0.890509   \n",
       "Garage Area     0.662397      0.581106     0.465366     0.890509     1.000000   \n",
       "1st Flr SF      0.657119      0.490056     0.515404     0.441351     0.477281   \n",
       "Full Bath       0.518194      0.505102     0.625981     0.468295     0.402743   \n",
       "Fireplaces      0.485683      0.386205     0.460746     0.342560     0.302616   \n",
       "TotRms AbvGrd   0.483701      0.360203     0.807301     0.343422     0.295586   \n",
       "Open Porch SF   0.344383      0.319954     0.321806     0.190875     0.218563   \n",
       "Wood Deck SF    0.319104      0.260258     0.238396     0.227391     0.219300   \n",
       "\n",
       "               1st Flr SF  Full Bath  Fireplaces  TotRms AbvGrd  \\\n",
       "SalePrice        0.657119   0.518194    0.485683       0.483701   \n",
       "Overall Qual     0.490056   0.505102    0.386205       0.360203   \n",
       "Gr Liv Area      0.515404   0.625981    0.460746       0.807301   \n",
       "Garage Cars      0.441351   0.468295    0.342560       0.343422   \n",
       "Garage Area      0.477281   0.402743    0.302616       0.295586   \n",
       "1st Flr SF       1.000000   0.341061    0.429662       0.360595   \n",
       "Full Bath        0.341061   1.000000    0.245036       0.517731   \n",
       "Fireplaces       0.429662   0.245036    1.000000       0.307189   \n",
       "TotRms AbvGrd    0.360595   0.517731    0.307189       1.000000   \n",
       "Open Porch SF    0.191891   0.255968    0.148664       0.222774   \n",
       "Wood Deck SF     0.206013   0.180358    0.209153       0.148162   \n",
       "\n",
       "               Open Porch SF  Wood Deck SF  \n",
       "SalePrice           0.344383      0.319104  \n",
       "Overall Qual        0.319954      0.260258  \n",
       "Gr Liv Area         0.321806      0.238396  \n",
       "Garage Cars         0.190875      0.227391  \n",
       "Garage Area         0.218563      0.219300  \n",
       "1st Flr SF          0.191891      0.206013  \n",
       "Full Bath           0.255968      0.180358  \n",
       "Fireplaces          0.148664      0.209153  \n",
       "TotRms AbvGrd       0.222774      0.148162  \n",
       "Open Porch SF       1.000000      0.039738  \n",
       "Wood Deck SF        0.039738      1.000000  "
      ]
     },
     "execution_count": 35,
     "metadata": {},
     "output_type": "execute_result"
    }
   ],
   "source": [
    "corrmat"
   ]
  },
  {
   "cell_type": "code",
   "execution_count": 39,
   "metadata": {},
   "outputs": [
    {
     "data": {
      "text/plain": [
       "<matplotlib.axes._subplots.AxesSubplot at 0x22c023c1550>"
      ]
     },
     "execution_count": 39,
     "metadata": {},
     "output_type": "execute_result"
    },
    {
     "data": {
      "image/png": "[encoded data removed]",
      "text/plain": [
       "<Figure size 432x288 with 2 Axes>"
      ]
     },
     "metadata": {
      "needs_background": "light"
     },
     "output_type": "display_data"
    }
   ],
   "source": [
    "sns.heatmap(corrmat)"
   ]
  },
  {
   "cell_type": "markdown",
   "metadata": {},
   "source": [
    "## Train And Test Model"
   ]
  },
  {
   "cell_type": "markdown",
   "metadata": {},
   "source": [
    "Based on the correlation matrix heatmap, we can tell that the following pairs of columns are strongly correlated:\n",
    "\n",
    "* `Gr Liv Area` and `TotRms AbvGrd`\n",
    "* `Garage Area` and `Garage Cars`\n",
    "\n",
    "Gr Liv Area: Above grade (ground) living area square feet\n",
    "\n",
    "TotRms Abv Grd: Total rooms above grade (does not include bathrooms)\n",
    "\n",
    "Garage Cars: Size of garage in car capacity\n",
    "\n",
    "Garage Area: Size of garage in square feet\n",
    "\n",
    "We can tell that each pair of columns reflects very similar information. Because `Gr Liv Area` and `Garage Area` are continuous variables that capture more nuance, let's drop the `TotRms AbvGrd` and `Garage Cars`."
   ]
  },
  {
   "cell_type": "code",
   "execution_count": 40,
   "metadata": {},
   "outputs": [],
   "source": [
    "from sklearn.linear_model import LinearRegression\n",
    "from sklearn.metrics import mean_squared_error\n",
    "import numpy as np\n",
    "\n",
    "final_corr_cols = strong_corrs.drop(['Garage Cars', 'TotRms AbvGrd'])\n",
    "features = final_corr_cols.drop(['SalePrice']).index\n",
    "target = 'SalePrice'"
   ]
  },
  {
   "cell_type": "code",
   "execution_count": 47,
   "metadata": {},
   "outputs": [],
   "source": [
    "clean_test = test[final_corr_cols.index].dropna()"
   ]
  },
  {
   "cell_type": "code",
   "execution_count": 50,
   "metadata": {},
   "outputs": [
    {
     "data": {
      "text/plain": [
       "LinearRegression()"
      ]
     },
     "execution_count": 50,
     "metadata": {},
     "output_type": "execute_result"
    }
   ],
   "source": [
    "lr = LinearRegression()\n",
    "lr.fit(train_subset[features], train_subset[target])\n"
   ]
  },
  {
   "cell_type": "code",
   "execution_count": 52,
   "metadata": {},
   "outputs": [],
   "source": [
    "train_preds = lr.predict(train_subset[features])\n",
    "\n",
    "train_rmse = mean_squared_error(train_subset[target], train_preds)**0.5"
   ]
  },
  {
   "cell_type": "code",
   "execution_count": 54,
   "metadata": {},
   "outputs": [],
   "source": [
    "test_preds = lr.predict(clean_test[features])\n",
    "test_rmse = mean_squared_error(clean_test[target], test_preds)**0.5"
   ]
  },
  {
   "cell_type": "code",
   "execution_count": 57,
   "metadata": {},
   "outputs": [
    {
     "data": {
      "text/plain": [
       "34173.97629185852"
      ]
     },
     "execution_count": 57,
     "metadata": {},
     "output_type": "execute_result"
    }
   ],
   "source": [
    "train_rmse "
   ]
  },
  {
   "cell_type": "code",
   "execution_count": 59,
   "metadata": {},
   "outputs": [
    {
     "data": {
      "text/plain": [
       "41032.02612019742"
      ]
     },
     "execution_count": 59,
     "metadata": {},
     "output_type": "execute_result"
    }
   ],
   "source": [
    "test_rmse"
   ]
  },
  {
   "cell_type": "markdown",
   "metadata": {},
   "source": [
    "## Removing Low Variance Features"
   ]
  },
  {
   "cell_type": "code",
   "execution_count": 68,
   "metadata": {},
   "outputs": [],
   "source": [
    "unit_train = (train_subset[features] - train_subset[features].min()) / (train_subset[features].max() - train_subset[features].min())"
   ]
  },
  {
   "cell_type": "code",
   "execution_count": 69,
   "metadata": {},
   "outputs": [
    {
     "data": {
      "text/html": [
       "<div>\n",
       "<style scoped>\n",
       "    .dataframe tbody tr th:only-of-type {\n",
       "        vertical-align: middle;\n",
       "    }\n",
       "\n",
       "    .dataframe tbody tr th {\n",
       "        vertical-align: top;\n",
       "    }\n",
       "\n",
       "    .dataframe thead th {\n",
       "        text-align: right;\n",
       "    }\n",
       "</style>\n",
       "<table border=\"1\" class=\"dataframe\">\n",
       "  <thead>\n",
       "    <tr style=\"text-align: right;\">\n",
       "      <th></th>\n",
       "      <th>Overall Qual</th>\n",
       "      <th>Gr Liv Area</th>\n",
       "      <th>Garage Area</th>\n",
       "      <th>1st Flr SF</th>\n",
       "      <th>Full Bath</th>\n",
       "      <th>Fireplaces</th>\n",
       "      <th>Open Porch SF</th>\n",
       "      <th>Wood Deck SF</th>\n",
       "    </tr>\n",
       "  </thead>\n",
       "  <tbody>\n",
       "    <tr>\n",
       "      <th>count</th>\n",
       "      <td>1460.000000</td>\n",
       "      <td>1460.000000</td>\n",
       "      <td>1460.000000</td>\n",
       "      <td>1460.000000</td>\n",
       "      <td>1460.000000</td>\n",
       "      <td>1460.000000</td>\n",
       "      <td>1460.000000</td>\n",
       "      <td>1460.000000</td>\n",
       "    </tr>\n",
       "    <tr>\n",
       "      <th>mean</th>\n",
       "      <td>0.567580</td>\n",
       "      <td>0.351245</td>\n",
       "      <td>0.318119</td>\n",
       "      <td>0.335449</td>\n",
       "      <td>0.391438</td>\n",
       "      <td>0.198402</td>\n",
       "      <td>0.084983</td>\n",
       "      <td>0.138207</td>\n",
       "    </tr>\n",
       "    <tr>\n",
       "      <th>std</th>\n",
       "      <td>0.156512</td>\n",
       "      <td>0.151916</td>\n",
       "      <td>0.142642</td>\n",
       "      <td>0.160668</td>\n",
       "      <td>0.136459</td>\n",
       "      <td>0.215846</td>\n",
       "      <td>0.118058</td>\n",
       "      <td>0.181836</td>\n",
       "    </tr>\n",
       "    <tr>\n",
       "      <th>min</th>\n",
       "      <td>0.000000</td>\n",
       "      <td>0.000000</td>\n",
       "      <td>0.000000</td>\n",
       "      <td>0.000000</td>\n",
       "      <td>0.000000</td>\n",
       "      <td>0.000000</td>\n",
       "      <td>0.000000</td>\n",
       "      <td>0.000000</td>\n",
       "    </tr>\n",
       "    <tr>\n",
       "      <th>25%</th>\n",
       "      <td>0.444444</td>\n",
       "      <td>0.238091</td>\n",
       "      <td>0.224798</td>\n",
       "      <td>0.211704</td>\n",
       "      <td>0.250000</td>\n",
       "      <td>0.000000</td>\n",
       "      <td>0.000000</td>\n",
       "      <td>0.000000</td>\n",
       "    </tr>\n",
       "    <tr>\n",
       "      <th>50%</th>\n",
       "      <td>0.555556</td>\n",
       "      <td>0.339274</td>\n",
       "      <td>0.322581</td>\n",
       "      <td>0.307229</td>\n",
       "      <td>0.500000</td>\n",
       "      <td>0.333333</td>\n",
       "      <td>0.047532</td>\n",
       "      <td>0.000000</td>\n",
       "    </tr>\n",
       "    <tr>\n",
       "      <th>75%</th>\n",
       "      <td>0.666667</td>\n",
       "      <td>0.429439</td>\n",
       "      <td>0.387097</td>\n",
       "      <td>0.434703</td>\n",
       "      <td>0.500000</td>\n",
       "      <td>0.333333</td>\n",
       "      <td>0.127971</td>\n",
       "      <td>0.251497</td>\n",
       "    </tr>\n",
       "    <tr>\n",
       "      <th>max</th>\n",
       "      <td>1.000000</td>\n",
       "      <td>1.000000</td>\n",
       "      <td>1.000000</td>\n",
       "      <td>1.000000</td>\n",
       "      <td>1.000000</td>\n",
       "      <td>1.000000</td>\n",
       "      <td>1.000000</td>\n",
       "      <td>1.000000</td>\n",
       "    </tr>\n",
       "  </tbody>\n",
       "</table>\n",
       "</div>"
      ],
      "text/plain": [
       "       Overall Qual  Gr Liv Area  Garage Area   1st Flr SF    Full Bath  \\\n",
       "count   1460.000000  1460.000000  1460.000000  1460.000000  1460.000000   \n",
       "mean       0.567580     0.351245     0.318119     0.335449     0.391438   \n",
       "std        0.156512     0.151916     0.142642     0.160668     0.136459   \n",
       "min        0.000000     0.000000     0.000000     0.000000     0.000000   \n",
       "25%        0.444444     0.238091     0.224798     0.211704     0.250000   \n",
       "50%        0.555556     0.339274     0.322581     0.307229     0.500000   \n",
       "75%        0.666667     0.429439     0.387097     0.434703     0.500000   \n",
       "max        1.000000     1.000000     1.000000     1.000000     1.000000   \n",
       "\n",
       "        Fireplaces  Open Porch SF  Wood Deck SF  \n",
       "count  1460.000000    1460.000000   1460.000000  \n",
       "mean      0.198402       0.084983      0.138207  \n",
       "std       0.215846       0.118058      0.181836  \n",
       "min       0.000000       0.000000      0.000000  \n",
       "25%       0.000000       0.000000      0.000000  \n",
       "50%       0.333333       0.047532      0.000000  \n",
       "75%       0.333333       0.127971      0.251497  \n",
       "max       1.000000       1.000000      1.000000  "
      ]
     },
     "execution_count": 69,
     "metadata": {},
     "output_type": "execute_result"
    }
   ],
   "source": [
    "unit_train.describe()"
   ]
  },
  {
   "cell_type": "code",
   "execution_count": 71,
   "metadata": {},
   "outputs": [
    {
     "data": {
      "text/plain": [
       "Open Porch SF    0.013938\n",
       "Full Bath        0.018621\n",
       "Garage Area      0.020347\n",
       "Gr Liv Area      0.023078\n",
       "Overall Qual     0.024496\n",
       "1st Flr SF       0.025814\n",
       "Wood Deck SF     0.033064\n",
       "Fireplaces       0.046589\n",
       "dtype: float64"
      ]
     },
     "execution_count": 71,
     "metadata": {},
     "output_type": "execute_result"
    }
   ],
   "source": [
    "unit_train.var().sort_values()"
   ]
  },
  {
   "cell_type": "code",
   "execution_count": null,
   "metadata": {},
   "outputs": [],
   "source": [
    "features = features.drop('Open Porch SF')"
   ]
  },
  {
   "cell_type": "markdown",
   "metadata": {},
   "source": [
    "## Final Model"
   ]
  },
  {
   "cell_type": "code",
   "execution_count": 78,
   "metadata": {},
   "outputs": [
    {
     "data": {
      "text/plain": [
       "LinearRegression()"
      ]
     },
     "execution_count": 78,
     "metadata": {},
     "output_type": "execute_result"
    }
   ],
   "source": [
    "lr = LinearRegression()\n",
    "lr.fit(train_subset[features], train_subset[target])"
   ]
  },
  {
   "cell_type": "code",
   "execution_count": 79,
   "metadata": {},
   "outputs": [],
   "source": [
    "train_preds_2 = lr.predict(train_subset[features])\n",
    "train_rmse_2 = mean_squared_error(train_subset[target], train_preds_2)**0.5"
   ]
  },
  {
   "cell_type": "code",
   "execution_count": 80,
   "metadata": {},
   "outputs": [],
   "source": [
    "test_preds_2 = lr.predict(clean_test[features])\n",
    "test_rmse_2 = mean_squared_error(clean_test[target], test_preds_2)**0.5"
   ]
  },
  {
   "cell_type": "code",
   "execution_count": 81,
   "metadata": {},
   "outputs": [
    {
     "data": {
      "text/plain": [
       "34372.69670778396"
      ]
     },
     "execution_count": 81,
     "metadata": {},
     "output_type": "execute_result"
    }
   ],
   "source": [
    "train_rmse_2"
   ]
  },
  {
   "cell_type": "code",
   "execution_count": 82,
   "metadata": {},
   "outputs": [
    {
     "data": {
      "text/plain": [
       "40591.427024377255"
      ]
     },
     "execution_count": 82,
     "metadata": {},
     "output_type": "execute_result"
    }
   ],
   "source": [
    "test_rmse_2"
   ]
  },
  {
   "cell_type": "code",
   "execution_count": null,
   "metadata": {},
   "outputs": [],
   "source": []
  }
 ],
 "metadata": {
  "kernelspec": {
   "display_name": "Python 3",
   "language": "python",
   "name": "python3"
  },
  "language_info": {
   "codemirror_mode": {
    "name": "ipython",
    "version": 3
   },
   "file_extension": ".py",
   "mimetype": "text/x-python",
   "name": "python",
   "nbconvert_exporter": "python",
   "pygments_lexer": "ipython3",
   "version": "3.6.8"
  },
  "toc": {
   "base_numbering": 1,
   "nav_menu": {},
   "number_sections": true,
   "sideBar": true,
   "skip_h1_title": false,
   "title_cell": "Table of Contents",
   "title_sidebar": "Contents",
   "toc_cell": false,
   "toc_position": {},
   "toc_section_display": true,
   "toc_window_display": false
  }
 },
 "nbformat": 4,
 "nbformat_minor": 4
}
