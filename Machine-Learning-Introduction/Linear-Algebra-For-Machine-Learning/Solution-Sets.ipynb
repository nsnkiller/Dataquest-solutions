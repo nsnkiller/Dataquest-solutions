{
 "cells": [
  {
   "cell_type": "markdown",
   "metadata": {},
   "source": [
    "## Introduction"
   ]
  },
  {
   "cell_type": "markdown",
   "metadata": {},
   "source": [
    "In this course, we've explored two different ways to find the solution to $A\\vec{x} = \\vec{b}$ when b isn't a vector containing all zeroes ($b \\ne \\vec{0}$). \n",
    "\n",
    "* **The first way** we explored was `Gaussian elimination`, which involves using the row operations to transform the `augmented `representation of a linear system to `echelon form` and then finally to reduced row echelon form. \n",
    "\n",
    "* **The second way** we explored was to compute the `matrix inverse` of $A$ and `left multiplying` both sides of the equation to find $\\vec{x}$.\n",
    "\n",
    "\n",
    "While we can use these techniques to solve most of the linear systems we'll encounter, we need to learn what to do when:\n",
    "\n",
    "* the solution set for a linear system doesn't exist\n",
    "* the solution set for a linear system isn't just a single vector\n",
    "* b is equal to $\\vec{0}$"
   ]
  },
  {
   "cell_type": "markdown",
   "metadata": {},
   "source": [
    "## Inconsistent Systems"
   ]
  },
  {
   "cell_type": "markdown",
   "metadata": {},
   "source": [
    "Not all systems of equations have a solution and these systems are `inconsistent`. An inconsistent system will have two or more equations that don't overlap in values, making it impossible to find a solution. Let's look at a concrete example:"
   ]
  },
  {
   "cell_type": "markdown",
   "metadata": {},
   "source": [
    "$\\left[\\begin{array}{rr|r}\n",
    "8 & 4 & 5 \\\\ \n",
    "4 & 2 & 5\n",
    "\\end{array}\\right]$"
   ]
  },
  {
   "cell_type": "code",
   "execution_count": 1,
   "metadata": {},
   "outputs": [
    {
     "data": {
      "image/png": "[encoded data removed]",
      "text/plain": [
       "<Figure size 432x288 with 1 Axes>"
      ]
     },
     "metadata": {
      "needs_background": "light"
     },
     "output_type": "display_data"
    }
   ],
   "source": [
    "import numpy as np\n",
    "import matplotlib.pyplot as plt\n",
    "\n",
    "x = np.linspace(0, 20, 1000)\n",
    "\n",
    "y1 = -2*x + 5/4\n",
    "y2 = -2*x + 5/2\n",
    "\n",
    "plt.plot(x, y1, c='blue')\n",
    "plt.plot(x, y2, c='blue')\n",
    "\n",
    "plt.show()"
   ]
  },
  {
   "cell_type": "markdown",
   "metadata": {},
   "source": [
    "## Singular Matrix"
   ]
  },
  {
   "cell_type": "markdown",
   "metadata": {},
   "source": [
    "When we're working with a `square matrix`, one where the number of rows and the number of columns are equal, we can compute the `determinant` and if it's equal to 0 then we say that the matrix is singular, or contains no inverse."
   ]
  },
  {
   "cell_type": "markdown",
   "metadata": {},
   "source": [
    "$A = \n",
    "\\left[\\begin{array}{rr}\n",
    "8 & 4 \\\\ \n",
    "4 & 2 \n",
    "\\end{array}\\right]$"
   ]
  },
  {
   "cell_type": "code",
   "execution_count": 8,
   "metadata": {},
   "outputs": [],
   "source": [
    "A = np.asarray([[8,4],\n",
    "              [4,2]], dtype=np.int)\n",
    "\n",
    "detA = np.linalg.det(A)"
   ]
  },
  {
   "cell_type": "code",
   "execution_count": 9,
   "metadata": {},
   "outputs": [
    {
     "data": {
      "text/plain": [
       "0.0"
      ]
     },
     "execution_count": 9,
     "metadata": {},
     "output_type": "execute_result"
    }
   ],
   "source": [
    "detA"
   ]
  },
  {
   "cell_type": "markdown",
   "metadata": {},
   "source": [
    "## Possible Solutions For Nonhomogenous Systems"
   ]
  },
  {
   "cell_type": "markdown",
   "metadata": {},
   "source": [
    "So far, we've only looked at linear systems where the constants vector ($\\vec{b}$) doesn't contain all zeroes. These linear systems are known as nonhomogenous systems. Here's the `nonhomogenous system` from earlier:\n",
    "\n",
    "$\\left[\\begin{array}{rr|r}\n",
    "8 & 4 & 5 \\\\ \n",
    "4 & 2 & 5\n",
    "\\end{array}\\right]$\n",
    "On the other hand, when the constant vector is equal to the zero vector, that system is known as a `homogenous system`. Here's an example:\n",
    "\n",
    "$\\left[\\begin{array}{rr|r}\n",
    "8 & 4 & 0 \\\\ \n",
    "4 & 2 & 0\n",
    "\\end{array}\\right]$"
   ]
  },
  {
   "cell_type": "markdown",
   "metadata": {},
   "source": [
    "## Possible Solutions For Nonhomogenous Systems"
   ]
  },
  {
   "cell_type": "markdown",
   "metadata": {},
   "source": [
    "**Square, Nonhomogenous System**\n",
    "\n",
    "For square, nonhomogenous systems, there are 3 possible solutions:\n",
    "\n",
    "* no solution\n",
    "* a single solution\n",
    "* infinitely many solutions"
   ]
  },
  {
   "cell_type": "markdown",
   "metadata": {},
   "source": [
    "**Rectangular, Nonhomogenous System**\n",
    "\n",
    "For a rectangular (nonsquare), nonhomogenous systems, there are 2 possible solutions:\n",
    "\n",
    "* no solution\n",
    "* infinitely many solutions"
   ]
  },
  {
   "cell_type": "markdown",
   "metadata": {},
   "source": [
    "## Homogenous Systems"
   ]
  },
  {
   "cell_type": "markdown",
   "metadata": {},
   "source": [
    "$\\left[\\begin{array}{rrr|r}\n",
    "6 & 10 & -8 & 0\\\\ \n",
    "-6 & -4 & 8 & 0 \\\\\n",
    "3 & 1/2 & -4 & 0\n",
    "\\end{array}\\right]$"
   ]
  },
  {
   "cell_type": "markdown",
   "metadata": {},
   "source": [
    "$\\vec{x} = x_3\\cdot \\begin{bmatrix}\n",
    "4/3\\\\\n",
    "0 \\\\\n",
    "1\n",
    "\\end{bmatrix}$"
   ]
  },
  {
   "cell_type": "code",
   "execution_count": 11,
   "metadata": {},
   "outputs": [],
   "source": [
    "def test_homog(x3):\n",
    "    x1 = float(4/3*x3)\n",
    "    x2 = 0\n",
    "    return((3*x1 + 5*x2 - 4*x3 == 0) and (x2 == 0))\n",
    "\n",
    "b_one = test_homog(1)\n",
    "b_two = test_homog(-10)\n",
    "    "
   ]
  },
  {
   "cell_type": "code",
   "execution_count": 12,
   "metadata": {},
   "outputs": [
    {
     "data": {
      "text/plain": [
       "True"
      ]
     },
     "execution_count": 12,
     "metadata": {},
     "output_type": "execute_result"
    }
   ],
   "source": [
    "b_one"
   ]
  },
  {
   "cell_type": "code",
   "execution_count": 13,
   "metadata": {},
   "outputs": [
    {
     "data": {
      "text/plain": [
       "True"
      ]
     },
     "execution_count": 13,
     "metadata": {},
     "output_type": "execute_result"
    }
   ],
   "source": [
    "b_two"
   ]
  },
  {
   "cell_type": "markdown",
   "metadata": {},
   "source": [
    "## Summary of Linear Systems"
   ]
  },
  {
   "cell_type": "markdown",
   "metadata": {},
   "source": [
    "In this course, we've explored a few different ways to classify linear systems.\n",
    "\n",
    "**Square vs. Rectangular**\n",
    "\n",
    "When $A$ is a square matrix, we can compute the determinant to determine if there's a solution and the matrix inverse if the determinant isn't equal to $0$. Unfortunately, computing the determinant and matrix inverse are very computationally intensive and should only be used for low dimensional matrices. These techniques are incredibly useful when working with small linear systems by hand, however.\n",
    "\n",
    "When $A$ is a rectangular matrix, we're looking to determine if the system has no solutions or infinitely many solutions using Gaussian elimination. If the latter, it's common to express the solution space in parametric vector form.\n",
    "\n",
    "**Nonhomogenous vs. Homogenous**\n",
    "\n",
    "When $A$ is nonhomogenous, the linear system can contain zero, one, or infinitely many solutions. However, if $A$ is rectangular and nonhomogenous, it can't contain just a unique solution (there will always be a free variable).\n",
    "\n",
    "When $A$ is homogenous, the linear system always contains the trivial solution (the zero vector). To determine if there's a solution space, we need to use Gaussian elimination to see if there are any inconsistent equations. If not, we can express the solution space in parametric form using the free variable."
   ]
  },
  {
   "cell_type": "code",
   "execution_count": null,
   "metadata": {},
   "outputs": [],
   "source": []
  }
 ],
 "metadata": {
  "kernelspec": {
   "display_name": "Python 3",
   "language": "python",
   "name": "python3"
  },
  "language_info": {
   "codemirror_mode": {
    "name": "ipython",
    "version": 3
   },
   "file_extension": ".py",
   "mimetype": "text/x-python",
   "name": "python",
   "nbconvert_exporter": "python",
   "pygments_lexer": "ipython3",
   "version": "3.6.8"
  },
  "toc": {
   "base_numbering": 1,
   "nav_menu": {},
   "number_sections": true,
   "sideBar": true,
   "skip_h1_title": false,
   "title_cell": "Table of Contents",
   "title_sidebar": "Contents",
   "toc_cell": false,
   "toc_position": {},
   "toc_section_display": true,
   "toc_window_display": false
  }
 },
 "nbformat": 4,
 "nbformat_minor": 4
}
