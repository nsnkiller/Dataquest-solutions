{
 "cells": [
  {
   "cell_type": "markdown",
   "metadata": {},
   "source": [
    "## Introduction"
   ]
  },
  {
   "cell_type": "markdown",
   "metadata": {},
   "source": [
    "In this mission, we'll learn a couple other string cleaning tasks such as:\n",
    "\n",
    "* Finding specific strings or substrings in columns\n",
    "* Extracting substrings from unstructured data\n",
    "* Removing strings or substrings from a series"
   ]
  },
  {
   "cell_type": "markdown",
   "metadata": {},
   "source": [
    "The [economic dataset](https://www.kaggle.com/worldbank/world-development-indicators/version/2) are from the World Bank.\n",
    "\n",
    "* `ShortName` - Name of the country\n",
    "* `Region` - The region the country belongs to\n",
    "* `IncomeGroup` - The income group the country belongs to, based on Gross National Income (GNI) per capita\n",
    "* `CurrencyUnit` - Name of country's currency\n",
    "* `SourceOfMostRecentIncomeAndExpenditureData` - The name of the survey used to collect the income and expenditure data\n",
    "* `SpecialNotes` - Contains any miscellaneous notes about the data"
   ]
  },
  {
   "cell_type": "code",
   "execution_count": 1,
   "metadata": {},
   "outputs": [],
   "source": [
    "import pandas as pd"
   ]
  },
  {
   "cell_type": "code",
   "execution_count": 2,
   "metadata": {},
   "outputs": [],
   "source": [
    "happiness2015 = pd.read_csv(\"World_Happiness_2015.csv\")\n",
    "\n",
    "world_dev = pd.read_csv(\"World_dev.csv\")\n",
    "col_renaming = {'SourceOfMostRecentIncomeAndExpenditureData': 'IESurvey'}\n"
   ]
  },
  {
   "cell_type": "code",
   "execution_count": 3,
   "metadata": {},
   "outputs": [
    {
     "data": {
      "text/plain": [
       "array(['Switzerland', 'Iceland', 'Denmark', 'Norway', 'Canada', 'Finland',\n",
       "       'Netherlands', 'Sweden', 'New Zealand', 'Australia', 'Israel',\n",
       "       'Costa Rica', 'Austria', 'Mexico', 'United States', 'Brazil',\n",
       "       'Luxembourg', 'Ireland', 'Belgium', 'United Arab Emirates',\n",
       "       'United Kingdom', 'Oman', 'Venezuela', 'Singapore', 'Panama',\n",
       "       'Germany', 'Chile', 'Qatar', 'France', 'Argentina',\n",
       "       'Czech Republic', 'Uruguay', 'Colombia', 'Thailand',\n",
       "       'Saudi Arabia', 'Spain', 'Malta', 'Taiwan', 'Kuwait', 'Suriname',\n",
       "       'Trinidad and Tobago', 'El Salvador', 'Guatemala', 'Uzbekistan',\n",
       "       'Slovakia', 'Japan', 'South Korea', 'Ecuador', 'Bahrain', 'Italy',\n",
       "       'Bolivia', 'Moldova', 'Paraguay', 'Kazakhstan', 'Slovenia',\n",
       "       'Lithuania', 'Nicaragua', 'Peru', 'Belarus', 'Poland', 'Malaysia',\n",
       "       'Croatia', 'Libya', 'Russia', 'Jamaica', 'North Cyprus', 'Cyprus',\n",
       "       'Algeria', 'Kosovo', 'Turkmenistan', 'Mauritius', 'Hong Kong',\n",
       "       'Estonia', 'Indonesia', 'Vietnam', 'Turkey', 'Kyrgyzstan',\n",
       "       'Nigeria', 'Bhutan', 'Azerbaijan', 'Pakistan', 'Jordan',\n",
       "       'Montenegro', 'China', 'Zambia', 'Romania', 'Serbia', 'Portugal',\n",
       "       'Latvia', 'Philippines', 'Somaliland region', 'Morocco',\n",
       "       'Macedonia', 'Mozambique', 'Albania', 'Bosnia and Herzegovina',\n",
       "       'Lesotho', 'Dominican Republic', 'Laos', 'Mongolia', 'Swaziland',\n",
       "       'Greece', 'Lebanon', 'Hungary', 'Honduras', 'Tajikistan',\n",
       "       'Tunisia', 'Palestinian Territories', 'Bangladesh', 'Iran',\n",
       "       'Ukraine', 'Iraq', 'South Africa', 'Ghana', 'Zimbabwe', 'Liberia',\n",
       "       'India', 'Sudan', 'Haiti', 'Congo (Kinshasa)', 'Nepal', 'Ethiopia',\n",
       "       'Sierra Leone', 'Mauritania', 'Kenya', 'Djibouti', 'Armenia',\n",
       "       'Botswana', 'Myanmar', 'Georgia', 'Malawi', 'Sri Lanka',\n",
       "       'Cameroon', 'Bulgaria', 'Egypt', 'Yemen', 'Angola', 'Mali',\n",
       "       'Congo (Brazzaville)', 'Comoros', 'Uganda', 'Senegal', 'Gabon',\n",
       "       'Niger', 'Cambodia', 'Tanzania', 'Madagascar',\n",
       "       'Central African Republic', 'Chad', 'Guinea', 'Ivory Coast',\n",
       "       'Burkina Faso', 'Afghanistan', 'Rwanda', 'Benin', 'Syria',\n",
       "       'Burundi', 'Togo'], dtype=object)"
      ]
     },
     "execution_count": 3,
     "metadata": {},
     "output_type": "execute_result"
    }
   ],
   "source": [
    "happiness2015['Country'].unique()"
   ]
  },
  {
   "cell_type": "code",
   "execution_count": 4,
   "metadata": {},
   "outputs": [
    {
     "data": {
      "text/plain": [
       "array(['Afghanistan', 'Albania', 'Algeria', 'American Samoa', 'Andorra',\n",
       "       'Angola', 'Antigua and Barbuda', 'Arab World', 'Argentina',\n",
       "       'Armenia', 'Aruba', 'Australia', 'Austria', 'Azerbaijan',\n",
       "       'Bahrain', 'Bangladesh', 'Barbados', 'Belarus', 'Belgium',\n",
       "       'Belize', 'Benin', 'Bermuda', 'Bhutan', 'Bolivia',\n",
       "       'Bosnia and Herzegovina', 'Botswana', 'Brazil', 'Brunei',\n",
       "       'Bulgaria', 'Burkina Faso', 'Burundi', 'Cabo Verde', 'Cambodia',\n",
       "       'Cameroon', 'Canada', 'Caribbean small states', 'Cayman Islands',\n",
       "       'Central African Republic', 'Central Europe and the Baltics',\n",
       "       'Chad', 'Channel Islands', 'Chile', 'China', 'Colombia', 'Comoros',\n",
       "       'Congo', 'Costa Rica', \"Côte d'Ivoire\", 'Croatia', 'Cuba',\n",
       "       'Curaçao', 'Cyprus', 'Czech Republic', \"Dem. People's Rep. Korea\",\n",
       "       'Dem. Rep. Congo', 'Denmark', 'Djibouti', 'Dominica',\n",
       "       'Dominican Republic', 'East Asia & Pacific (all income levels)',\n",
       "       'East Asia & Pacific (developing only)', 'Ecuador', 'Egypt',\n",
       "       'El Salvador', 'Equatorial Guinea', 'Eritrea', 'Estonia',\n",
       "       'Ethiopia', 'Euro area',\n",
       "       'Europe & Central Asia (all income levels)',\n",
       "       'Europe & Central Asia (developing only)', 'European Union',\n",
       "       'Faeroe Islands', 'Fiji', 'Finland',\n",
       "       'Fragile and conflict affected situations', 'France',\n",
       "       'French Polynesia', 'Gabon', 'Georgia', 'Germany', 'Ghana',\n",
       "       'Greece', 'Greenland', 'Grenada', 'Guam', 'Guatemala', 'Guinea',\n",
       "       'Guinea-Bissau', 'Guyana', 'Haiti',\n",
       "       'Heavily indebted poor countries (HIPC)', 'High income',\n",
       "       'High income: nonOECD', 'High income: OECD', 'Honduras',\n",
       "       'Hong Kong SAR, China', 'Hungary', 'Iceland', 'India', 'Indonesia',\n",
       "       'Iran', 'Iraq', 'Ireland', 'Isle of Man', 'Israel', 'Italy',\n",
       "       'Jamaica', 'Japan', 'Jordan', 'Kazakhstan', 'Kenya', 'Kiribati',\n",
       "       'Korea', 'Kosovo', 'Kuwait', 'Kyrgyz Republic', 'Lao PDR',\n",
       "       'Latin America & Caribbean (all income levels)',\n",
       "       'Latin America & Caribbean (developing only)', 'Latvia',\n",
       "       'Least developed countries: UN classification', 'Lebanon',\n",
       "       'Lesotho', 'Liberia', 'Libya', 'Liechtenstein', 'Lithuania',\n",
       "       'Low & middle income', 'Low income', 'Lower middle income',\n",
       "       'Luxembourg', 'Macao SAR, China', 'Macedonia', 'Madagascar',\n",
       "       'Malawi', 'Malaysia', 'Maldives', 'Mali', 'Malta',\n",
       "       'Marshall Islands', 'Mauritania', 'Mauritius', 'Mexico',\n",
       "       'Micronesia', 'Middle East & North Africa (all income levels)',\n",
       "       'Middle East & North Africa (developing only)', 'Middle income',\n",
       "       'Moldova', 'Monaco', 'Mongolia', 'Montenegro', 'Morocco',\n",
       "       'Mozambique', 'Myanmar', 'Namibia', 'Nepal', 'Netherlands',\n",
       "       'New Caledonia', 'New Zealand', 'Nicaragua', 'Niger', 'Nigeria',\n",
       "       'North America', 'Northern Mariana Islands', 'Norway',\n",
       "       'OECD members', 'Oman', 'Other small states',\n",
       "       'Pacific island small states', 'Pakistan', 'Palau', 'Panama',\n",
       "       'Papua New Guinea', 'Paraguay', 'Peru', 'Philippines', 'Poland',\n",
       "       'Portugal', 'Puerto Rico', 'Qatar', 'Romania', 'Russia', 'Rwanda',\n",
       "       'Samoa', 'San Marino', 'São Tomé and Principe', 'Saudi Arabia',\n",
       "       'Senegal', 'Serbia', 'Seychelles', 'Sierra Leone', 'Singapore',\n",
       "       'Sint Maarten (Dutch part)', 'Slovak Republic', 'Slovenia',\n",
       "       'Small states', 'Solomon Islands', 'Somalia', 'South Africa',\n",
       "       'South Asia', 'South Sudan', 'Spain', 'Sri Lanka',\n",
       "       'St. Kitts and Nevis', 'St. Lucia', 'St. Martin (French part)',\n",
       "       'St. Vincent and the Grenadines',\n",
       "       'Sub-Saharan Africa (all income levels)',\n",
       "       'Sub-Saharan Africa (developing only)', 'Sudan', 'Suriname',\n",
       "       'Swaziland', 'Sweden', 'Switzerland', 'Syrian Arab Republic',\n",
       "       'Tajikistan', 'Tanzania', 'Thailand', 'The Bahamas', 'The Gambia',\n",
       "       'Timor-Leste', 'Togo', 'Tonga', 'Trinidad and Tobago', 'Tunisia',\n",
       "       'Turkey', 'Turkmenistan', 'Turks and Caicos Islands', 'Tuvalu',\n",
       "       'Uganda', 'Ukraine', 'United Arab Emirates', 'United Kingdom',\n",
       "       'United States', 'Upper middle income', 'Uruguay', 'Uzbekistan',\n",
       "       'Vanuatu', 'Venezuela', 'Vietnam', 'Virgin Islands',\n",
       "       'West Bank and Gaza', 'World', 'Yemen', 'Zambia', 'Zimbabwe'],\n",
       "      dtype=object)"
      ]
     },
     "execution_count": 4,
     "metadata": {},
     "output_type": "execute_result"
    }
   ],
   "source": [
    "world_dev['ShortName'].unique()"
   ]
  },
  {
   "cell_type": "code",
   "execution_count": 5,
   "metadata": {},
   "outputs": [],
   "source": [
    "merged = pd.merge(left=happiness2015, right=world_dev, how='left', left_on='Country', right_on='ShortName')"
   ]
  },
  {
   "cell_type": "code",
   "execution_count": 6,
   "metadata": {},
   "outputs": [
    {
     "data": {
      "text/plain": [
       "(158, 12)"
      ]
     },
     "execution_count": 6,
     "metadata": {},
     "output_type": "execute_result"
    }
   ],
   "source": [
    "happiness2015.shape"
   ]
  },
  {
   "cell_type": "code",
   "execution_count": 7,
   "metadata": {},
   "outputs": [
    {
     "data": {
      "text/plain": [
       "(158, 43)"
      ]
     },
     "execution_count": 7,
     "metadata": {},
     "output_type": "execute_result"
    }
   ],
   "source": [
    "merged.shape"
   ]
  },
  {
   "cell_type": "code",
   "execution_count": 8,
   "metadata": {},
   "outputs": [
    {
     "data": {
      "text/plain": [
       "(247, 31)"
      ]
     },
     "execution_count": 8,
     "metadata": {},
     "output_type": "execute_result"
    }
   ],
   "source": [
    "world_dev.shape"
   ]
  },
  {
   "cell_type": "code",
   "execution_count": 9,
   "metadata": {},
   "outputs": [],
   "source": [
    "merged.rename(col_renaming, axis=1, inplace=True)"
   ]
  },
  {
   "cell_type": "markdown",
   "metadata": {},
   "source": [
    "## Using Apply to Transform Strings"
   ]
  },
  {
   "cell_type": "code",
   "execution_count": 10,
   "metadata": {},
   "outputs": [],
   "source": [
    "def extract_last_word(element):\n",
    "    return str(element).split()[-1]"
   ]
  },
  {
   "cell_type": "code",
   "execution_count": 12,
   "metadata": {},
   "outputs": [
    {
     "data": {
      "text/plain": [
       "0       franc\n",
       "1       krona\n",
       "2       krone\n",
       "3       krone\n",
       "4      dollar\n",
       "        ...  \n",
       "153     franc\n",
       "154     franc\n",
       "155       nan\n",
       "156     franc\n",
       "157     franc\n",
       "Name: CurrencyUnit, Length: 158, dtype: object"
      ]
     },
     "execution_count": 12,
     "metadata": {},
     "output_type": "execute_result"
    }
   ],
   "source": [
    "merged['CurrencyUnit'].apply(extract_last_word)"
   ]
  },
  {
   "cell_type": "code",
   "execution_count": 13,
   "metadata": {},
   "outputs": [],
   "source": [
    "merged['Currency Apply'] = merged['CurrencyUnit'].apply(extract_last_word)"
   ]
  },
  {
   "cell_type": "code",
   "execution_count": 14,
   "metadata": {},
   "outputs": [
    {
     "data": {
      "text/plain": [
       "0     franc\n",
       "1     krona\n",
       "2     krone\n",
       "3     krone\n",
       "4    dollar\n",
       "Name: Currency Apply, dtype: object"
      ]
     },
     "execution_count": 14,
     "metadata": {},
     "output_type": "execute_result"
    }
   ],
   "source": [
    "merged['Currency Apply'].head()"
   ]
  },
  {
   "cell_type": "markdown",
   "metadata": {},
   "source": [
    "## Vectorized String Methods Overview"
   ]
  },
  {
   "cell_type": "markdown",
   "metadata": {},
   "source": [
    "\n",
    "| <font size=4>Method  </font>| <font size=4> Description </font>|\n",
    "|:---------:|:-----------:|\n",
    "|Series.str.split()|Splits each element in the Series. |\n",
    "|Series.str.strip() |Strips whitespace from each string in the Series. |\n",
    "|Series.str.lower() |Converts strings in the Series to lowercase. |\n",
    "|Series.str.upper() |Converts strings in the Series to uppercase. |\n",
    "|Series.str.get() |Retrieves the ith element of each element in the Series. |\n",
    "|Series.str.replace() |Replaces a regex or string in the Series with another string. |\n",
    "|Series.str.cat() |Concatenates strings in a Series. |\n",
    "|Series.str.extract() |Extracts substrings from the Series matching a regex pattern. |\n"
   ]
  },
  {
   "cell_type": "markdown",
   "metadata": {},
   "source": [
    "![Jupyter](./Syntax.png)"
   ]
  },
  {
   "cell_type": "code",
   "execution_count": 16,
   "metadata": {},
   "outputs": [],
   "source": [
    "merged['Currency Vectorized'] = merged['CurrencyUnit'].str.split().str.get(-1)"
   ]
  },
  {
   "cell_type": "code",
   "execution_count": 17,
   "metadata": {},
   "outputs": [
    {
     "data": {
      "text/plain": [
       "0     franc\n",
       "1     krona\n",
       "2     krone\n",
       "3     krone\n",
       "4    dollar\n",
       "Name: Currency Vectorized, dtype: object"
      ]
     },
     "execution_count": 17,
     "metadata": {},
     "output_type": "execute_result"
    }
   ],
   "source": [
    "merged['Currency Vectorized'].head()"
   ]
  },
  {
   "cell_type": "markdown",
   "metadata": {},
   "source": [
    "## Exploring Missing Values with Vectorized String Methods"
   ]
  },
  {
   "cell_type": "code",
   "execution_count": 18,
   "metadata": {},
   "outputs": [],
   "source": [
    "lengths = merged['CurrencyUnit'].str.len()"
   ]
  },
  {
   "cell_type": "code",
   "execution_count": 21,
   "metadata": {},
   "outputs": [],
   "source": [
    "value_counts = lengths.value_counts(dropna=False)"
   ]
  },
  {
   "cell_type": "markdown",
   "metadata": {},
   "source": [
    "## Finding Specific Words in Strings"
   ]
  },
  {
   "cell_type": "code",
   "execution_count": 22,
   "metadata": {},
   "outputs": [
    {
     "data": {
      "text/plain": [
       "0     NaN\n",
       "1     NaN\n",
       "2     NaN\n",
       "3     NaN\n",
       "4    True\n",
       "Name: SpecialNotes, dtype: object"
      ]
     },
     "execution_count": 22,
     "metadata": {},
     "output_type": "execute_result"
    }
   ],
   "source": [
    "pattern = r\"[Nn]ational accounts\"\n",
    "\n",
    "national_accounts = merged['SpecialNotes'].str.contains(pattern)\n",
    "\n",
    "national_accounts.head()"
   ]
  },
  {
   "cell_type": "markdown",
   "metadata": {},
   "source": [
    "## Finding Specific Words in Strings Continued"
   ]
  },
  {
   "cell_type": "code",
   "execution_count": 23,
   "metadata": {},
   "outputs": [
    {
     "data": {
      "text/html": [
       "<div>\n",
       "<style scoped>\n",
       "    .dataframe tbody tr th:only-of-type {\n",
       "        vertical-align: middle;\n",
       "    }\n",
       "\n",
       "    .dataframe tbody tr th {\n",
       "        vertical-align: top;\n",
       "    }\n",
       "\n",
       "    .dataframe thead th {\n",
       "        text-align: right;\n",
       "    }\n",
       "</style>\n",
       "<table border=\"1\" class=\"dataframe\">\n",
       "  <thead>\n",
       "    <tr style=\"text-align: right;\">\n",
       "      <th></th>\n",
       "      <th>Country</th>\n",
       "      <th>Region_x</th>\n",
       "      <th>Happiness Rank</th>\n",
       "      <th>Happiness Score</th>\n",
       "      <th>Standard Error</th>\n",
       "      <th>Economy (GDP per Capita)</th>\n",
       "      <th>Family</th>\n",
       "      <th>Health (Life Expectancy)</th>\n",
       "      <th>Freedom</th>\n",
       "      <th>Trust (Government Corruption)</th>\n",
       "      <th>...</th>\n",
       "      <th>LatestPopulationCensus</th>\n",
       "      <th>LatestHouseholdSurvey</th>\n",
       "      <th>IESurvey</th>\n",
       "      <th>VitalRegistrationComplete</th>\n",
       "      <th>LatestAgriculturalCensus</th>\n",
       "      <th>LatestIndustrialData</th>\n",
       "      <th>LatestTradeData</th>\n",
       "      <th>LatestWaterWithdrawalData</th>\n",
       "      <th>Currency Apply</th>\n",
       "      <th>Currency Vectorized</th>\n",
       "    </tr>\n",
       "  </thead>\n",
       "  <tbody>\n",
       "    <tr>\n",
       "      <th>4</th>\n",
       "      <td>Canada</td>\n",
       "      <td>North America</td>\n",
       "      <td>5</td>\n",
       "      <td>7.427</td>\n",
       "      <td>0.03553</td>\n",
       "      <td>1.32629</td>\n",
       "      <td>1.32261</td>\n",
       "      <td>0.90563</td>\n",
       "      <td>0.63297</td>\n",
       "      <td>0.32957</td>\n",
       "      <td>...</td>\n",
       "      <td>2011</td>\n",
       "      <td>NaN</td>\n",
       "      <td>Labor force survey (LFS), 2010</td>\n",
       "      <td>Yes</td>\n",
       "      <td>2011</td>\n",
       "      <td>2011.0</td>\n",
       "      <td>2013.0</td>\n",
       "      <td>1986.0</td>\n",
       "      <td>dollar</td>\n",
       "      <td>dollar</td>\n",
       "    </tr>\n",
       "    <tr>\n",
       "      <th>7</th>\n",
       "      <td>Sweden</td>\n",
       "      <td>Western Europe</td>\n",
       "      <td>8</td>\n",
       "      <td>7.364</td>\n",
       "      <td>0.03157</td>\n",
       "      <td>1.33171</td>\n",
       "      <td>1.28907</td>\n",
       "      <td>0.91087</td>\n",
       "      <td>0.65980</td>\n",
       "      <td>0.43844</td>\n",
       "      <td>...</td>\n",
       "      <td>2011</td>\n",
       "      <td>NaN</td>\n",
       "      <td>Income survey (IS), 2005</td>\n",
       "      <td>Yes</td>\n",
       "      <td>2010</td>\n",
       "      <td>2010.0</td>\n",
       "      <td>2013.0</td>\n",
       "      <td>2007.0</td>\n",
       "      <td>krona</td>\n",
       "      <td>krona</td>\n",
       "    </tr>\n",
       "    <tr>\n",
       "      <th>8</th>\n",
       "      <td>New Zealand</td>\n",
       "      <td>Australia and New Zealand</td>\n",
       "      <td>9</td>\n",
       "      <td>7.286</td>\n",
       "      <td>0.03371</td>\n",
       "      <td>1.25018</td>\n",
       "      <td>1.31967</td>\n",
       "      <td>0.90837</td>\n",
       "      <td>0.63938</td>\n",
       "      <td>0.42922</td>\n",
       "      <td>...</td>\n",
       "      <td>2013</td>\n",
       "      <td>NaN</td>\n",
       "      <td>NaN</td>\n",
       "      <td>Yes</td>\n",
       "      <td>2012</td>\n",
       "      <td>2010.0</td>\n",
       "      <td>2013.0</td>\n",
       "      <td>2002.0</td>\n",
       "      <td>dollar</td>\n",
       "      <td>dollar</td>\n",
       "    </tr>\n",
       "    <tr>\n",
       "      <th>9</th>\n",
       "      <td>Australia</td>\n",
       "      <td>Australia and New Zealand</td>\n",
       "      <td>10</td>\n",
       "      <td>7.284</td>\n",
       "      <td>0.04083</td>\n",
       "      <td>1.33358</td>\n",
       "      <td>1.30923</td>\n",
       "      <td>0.93156</td>\n",
       "      <td>0.65124</td>\n",
       "      <td>0.35637</td>\n",
       "      <td>...</td>\n",
       "      <td>2011</td>\n",
       "      <td>NaN</td>\n",
       "      <td>Expenditure survey/budget survey (ES/BS), 2003</td>\n",
       "      <td>Yes</td>\n",
       "      <td>2011</td>\n",
       "      <td>2011.0</td>\n",
       "      <td>2013.0</td>\n",
       "      <td>2000.0</td>\n",
       "      <td>dollar</td>\n",
       "      <td>dollar</td>\n",
       "    </tr>\n",
       "    <tr>\n",
       "      <th>14</th>\n",
       "      <td>United States</td>\n",
       "      <td>North America</td>\n",
       "      <td>15</td>\n",
       "      <td>7.119</td>\n",
       "      <td>0.03839</td>\n",
       "      <td>1.39451</td>\n",
       "      <td>1.24711</td>\n",
       "      <td>0.86179</td>\n",
       "      <td>0.54604</td>\n",
       "      <td>0.15890</td>\n",
       "      <td>...</td>\n",
       "      <td>2010</td>\n",
       "      <td>NaN</td>\n",
       "      <td>Labor force survey (LFS), 2010</td>\n",
       "      <td>Yes</td>\n",
       "      <td>2012</td>\n",
       "      <td>2008.0</td>\n",
       "      <td>2013.0</td>\n",
       "      <td>2005.0</td>\n",
       "      <td>dollar</td>\n",
       "      <td>dollar</td>\n",
       "    </tr>\n",
       "  </tbody>\n",
       "</table>\n",
       "<p>5 rows × 45 columns</p>\n",
       "</div>"
      ],
      "text/plain": [
       "          Country                   Region_x  Happiness Rank  Happiness Score  \\\n",
       "4          Canada              North America               5            7.427   \n",
       "7          Sweden             Western Europe               8            7.364   \n",
       "8     New Zealand  Australia and New Zealand               9            7.286   \n",
       "9       Australia  Australia and New Zealand              10            7.284   \n",
       "14  United States              North America              15            7.119   \n",
       "\n",
       "    Standard Error  Economy (GDP per Capita)   Family  \\\n",
       "4          0.03553                   1.32629  1.32261   \n",
       "7          0.03157                   1.33171  1.28907   \n",
       "8          0.03371                   1.25018  1.31967   \n",
       "9          0.04083                   1.33358  1.30923   \n",
       "14         0.03839                   1.39451  1.24711   \n",
       "\n",
       "    Health (Life Expectancy)  Freedom  Trust (Government Corruption)  ...  \\\n",
       "4                    0.90563  0.63297                        0.32957  ...   \n",
       "7                    0.91087  0.65980                        0.43844  ...   \n",
       "8                    0.90837  0.63938                        0.42922  ...   \n",
       "9                    0.93156  0.65124                        0.35637  ...   \n",
       "14                   0.86179  0.54604                        0.15890  ...   \n",
       "\n",
       "    LatestPopulationCensus  LatestHouseholdSurvey  \\\n",
       "4                     2011                    NaN   \n",
       "7                     2011                    NaN   \n",
       "8                     2013                    NaN   \n",
       "9                     2011                    NaN   \n",
       "14                    2010                    NaN   \n",
       "\n",
       "                                          IESurvey VitalRegistrationComplete  \\\n",
       "4                   Labor force survey (LFS), 2010                       Yes   \n",
       "7                         Income survey (IS), 2005                       Yes   \n",
       "8                                              NaN                       Yes   \n",
       "9   Expenditure survey/budget survey (ES/BS), 2003                       Yes   \n",
       "14                  Labor force survey (LFS), 2010                       Yes   \n",
       "\n",
       "   LatestAgriculturalCensus LatestIndustrialData LatestTradeData  \\\n",
       "4                      2011               2011.0          2013.0   \n",
       "7                      2010               2010.0          2013.0   \n",
       "8                      2012               2010.0          2013.0   \n",
       "9                      2011               2011.0          2013.0   \n",
       "14                     2012               2008.0          2013.0   \n",
       "\n",
       "   LatestWaterWithdrawalData Currency Apply Currency Vectorized  \n",
       "4                     1986.0         dollar              dollar  \n",
       "7                     2007.0          krona               krona  \n",
       "8                     2002.0         dollar              dollar  \n",
       "9                     2000.0         dollar              dollar  \n",
       "14                    2005.0         dollar              dollar  \n",
       "\n",
       "[5 rows x 45 columns]"
      ]
     },
     "execution_count": 23,
     "metadata": {},
     "output_type": "execute_result"
    }
   ],
   "source": [
    "national_accounts = merged['SpecialNotes'].str.contains(pattern, na=False)\n",
    "\n",
    "merged_national_accounts = merged[national_accounts]\n",
    "\n",
    "merged_national_accounts.head()"
   ]
  },
  {
   "cell_type": "markdown",
   "metadata": {},
   "source": [
    "## Extracting Substrings from a Series"
   ]
  },
  {
   "cell_type": "code",
   "execution_count": 38,
   "metadata": {},
   "outputs": [],
   "source": [
    "pattern =r\"([1-2]\\d\\d\\d)\"\n",
    "\n",
    "years = merged['SpecialNotes'].str.extract(pattern, expand=False)"
   ]
  },
  {
   "cell_type": "code",
   "execution_count": 39,
   "metadata": {},
   "outputs": [
    {
     "data": {
      "text/plain": [
       "NaN     77\n",
       "2010    14\n",
       "1999    13\n",
       "2013     8\n",
       "2009     6\n",
       "2006     5\n",
       "2005     5\n",
       "2011     4\n",
       "2007     4\n",
       "2000     3\n",
       "2012     3\n",
       "2008     3\n",
       "2014     2\n",
       "2004     2\n",
       "1990     2\n",
       "2001     2\n",
       "1965     1\n",
       "2015     1\n",
       "1997     1\n",
       "1960     1\n",
       "1993     1\n",
       "Name: SpecialNotes, dtype: int64"
      ]
     },
     "execution_count": 39,
     "metadata": {},
     "output_type": "execute_result"
    }
   ],
   "source": [
    "years.value_counts(dropna=False)"
   ]
  },
  {
   "cell_type": "markdown",
   "metadata": {},
   "source": [
    "## Extracting Substrings from a Series Continued"
   ]
  },
  {
   "cell_type": "code",
   "execution_count": 36,
   "metadata": {},
   "outputs": [],
   "source": [
    "pattern = r\"([1-2][0-9]{3})\"\n",
    "\n",
    "years = merged['SpecialNotes'].str.extract(pattern, expand=True)"
   ]
  },
  {
   "cell_type": "code",
   "execution_count": 37,
   "metadata": {},
   "outputs": [
    {
     "data": {
      "text/html": [
       "<div>\n",
       "<style scoped>\n",
       "    .dataframe tbody tr th:only-of-type {\n",
       "        vertical-align: middle;\n",
       "    }\n",
       "\n",
       "    .dataframe tbody tr th {\n",
       "        vertical-align: top;\n",
       "    }\n",
       "\n",
       "    .dataframe thead th {\n",
       "        text-align: right;\n",
       "    }\n",
       "</style>\n",
       "<table border=\"1\" class=\"dataframe\">\n",
       "  <thead>\n",
       "    <tr style=\"text-align: right;\">\n",
       "      <th></th>\n",
       "      <th>0</th>\n",
       "    </tr>\n",
       "  </thead>\n",
       "  <tbody>\n",
       "    <tr>\n",
       "      <th>0</th>\n",
       "      <td>NaN</td>\n",
       "    </tr>\n",
       "    <tr>\n",
       "      <th>1</th>\n",
       "      <td>NaN</td>\n",
       "    </tr>\n",
       "    <tr>\n",
       "      <th>2</th>\n",
       "      <td>NaN</td>\n",
       "    </tr>\n",
       "    <tr>\n",
       "      <th>3</th>\n",
       "      <td>NaN</td>\n",
       "    </tr>\n",
       "    <tr>\n",
       "      <th>4</th>\n",
       "      <td>NaN</td>\n",
       "    </tr>\n",
       "    <tr>\n",
       "      <th>...</th>\n",
       "      <td>...</td>\n",
       "    </tr>\n",
       "    <tr>\n",
       "      <th>153</th>\n",
       "      <td>2006</td>\n",
       "    </tr>\n",
       "    <tr>\n",
       "      <th>154</th>\n",
       "      <td>NaN</td>\n",
       "    </tr>\n",
       "    <tr>\n",
       "      <th>155</th>\n",
       "      <td>NaN</td>\n",
       "    </tr>\n",
       "    <tr>\n",
       "      <th>156</th>\n",
       "      <td>NaN</td>\n",
       "    </tr>\n",
       "    <tr>\n",
       "      <th>157</th>\n",
       "      <td>2013</td>\n",
       "    </tr>\n",
       "  </tbody>\n",
       "</table>\n",
       "<p>158 rows × 1 columns</p>\n",
       "</div>"
      ],
      "text/plain": [
       "        0\n",
       "0     NaN\n",
       "1     NaN\n",
       "2     NaN\n",
       "3     NaN\n",
       "4     NaN\n",
       "..    ...\n",
       "153  2006\n",
       "154   NaN\n",
       "155   NaN\n",
       "156   NaN\n",
       "157  2013\n",
       "\n",
       "[158 rows x 1 columns]"
      ]
     },
     "execution_count": 37,
     "metadata": {},
     "output_type": "execute_result"
    }
   ],
   "source": [
    "years"
   ]
  },
  {
   "cell_type": "markdown",
   "metadata": {},
   "source": [
    "## Extracting All Matches of a Pattern from a Series"
   ]
  },
  {
   "cell_type": "code",
   "execution_count": null,
   "metadata": {},
   "outputs": [],
   "source": [
    "pattern = r\"(?P<Years>[1-2][0-9]{3})\"\n",
    "\n",
    "merged = merged.set_index('Country')\n",
    "\n"
   ]
  },
  {
   "cell_type": "code",
   "execution_count": 44,
   "metadata": {},
   "outputs": [],
   "source": [
    "years = merged['IESurvey'].str.extractall(pattern)"
   ]
  },
  {
   "cell_type": "code",
   "execution_count": 48,
   "metadata": {},
   "outputs": [
    {
     "data": {
      "text/plain": [
       "Index(['Years'], dtype='object')"
      ]
     },
     "execution_count": 48,
     "metadata": {},
     "output_type": "execute_result"
    }
   ],
   "source": [
    "years.columns"
   ]
  },
  {
   "cell_type": "code",
   "execution_count": 49,
   "metadata": {},
   "outputs": [],
   "source": [
    "value_counts = years['Years'].value_counts()"
   ]
  },
  {
   "cell_type": "markdown",
   "metadata": {},
   "source": [
    "![Jupyter](./Extractall.png)"
   ]
  },
  {
   "cell_type": "markdown",
   "metadata": {},
   "source": [
    "## Extracting More Than One Group of Patterns from a Series"
   ]
  },
  {
   "cell_type": "code",
   "execution_count": 51,
   "metadata": {},
   "outputs": [],
   "source": [
    "pattern = r\"(?P<First_Year>[1-2][0-9]{3})/?(?P<Second_Year>[0-9]{2})?\""
   ]
  },
  {
   "cell_type": "code",
   "execution_count": 52,
   "metadata": {},
   "outputs": [],
   "source": [
    "years = merged['IESurvey'].str.extractall(pattern)"
   ]
  },
  {
   "cell_type": "code",
   "execution_count": 53,
   "metadata": {},
   "outputs": [
    {
     "data": {
      "text/html": [
       "<div>\n",
       "<style scoped>\n",
       "    .dataframe tbody tr th:only-of-type {\n",
       "        vertical-align: middle;\n",
       "    }\n",
       "\n",
       "    .dataframe tbody tr th {\n",
       "        vertical-align: top;\n",
       "    }\n",
       "\n",
       "    .dataframe thead th {\n",
       "        text-align: right;\n",
       "    }\n",
       "</style>\n",
       "<table border=\"1\" class=\"dataframe\">\n",
       "  <thead>\n",
       "    <tr style=\"text-align: right;\">\n",
       "      <th></th>\n",
       "      <th></th>\n",
       "      <th>First_Year</th>\n",
       "      <th>Second_Year</th>\n",
       "    </tr>\n",
       "    <tr>\n",
       "      <th>Country</th>\n",
       "      <th>match</th>\n",
       "      <th></th>\n",
       "      <th></th>\n",
       "    </tr>\n",
       "  </thead>\n",
       "  <tbody>\n",
       "    <tr>\n",
       "      <th>Switzerland</th>\n",
       "      <th>0</th>\n",
       "      <td>2004</td>\n",
       "      <td>NaN</td>\n",
       "    </tr>\n",
       "    <tr>\n",
       "      <th>Iceland</th>\n",
       "      <th>0</th>\n",
       "      <td>2010</td>\n",
       "      <td>NaN</td>\n",
       "    </tr>\n",
       "    <tr>\n",
       "      <th>Denmark</th>\n",
       "      <th>0</th>\n",
       "      <td>2010</td>\n",
       "      <td>NaN</td>\n",
       "    </tr>\n",
       "    <tr>\n",
       "      <th>Norway</th>\n",
       "      <th>0</th>\n",
       "      <td>2010</td>\n",
       "      <td>NaN</td>\n",
       "    </tr>\n",
       "    <tr>\n",
       "      <th>Canada</th>\n",
       "      <th>0</th>\n",
       "      <td>2010</td>\n",
       "      <td>NaN</td>\n",
       "    </tr>\n",
       "    <tr>\n",
       "      <th>...</th>\n",
       "      <th>...</th>\n",
       "      <td>...</td>\n",
       "      <td>...</td>\n",
       "    </tr>\n",
       "    <tr>\n",
       "      <th>Afghanistan</th>\n",
       "      <th>0</th>\n",
       "      <td>2008</td>\n",
       "      <td>NaN</td>\n",
       "    </tr>\n",
       "    <tr>\n",
       "      <th>Rwanda</th>\n",
       "      <th>0</th>\n",
       "      <td>2010</td>\n",
       "      <td>11</td>\n",
       "    </tr>\n",
       "    <tr>\n",
       "      <th>Benin</th>\n",
       "      <th>0</th>\n",
       "      <td>2011</td>\n",
       "      <td>12</td>\n",
       "    </tr>\n",
       "    <tr>\n",
       "      <th>Burundi</th>\n",
       "      <th>0</th>\n",
       "      <td>2006</td>\n",
       "      <td>NaN</td>\n",
       "    </tr>\n",
       "    <tr>\n",
       "      <th>Togo</th>\n",
       "      <th>0</th>\n",
       "      <td>2011</td>\n",
       "      <td>NaN</td>\n",
       "    </tr>\n",
       "  </tbody>\n",
       "</table>\n",
       "<p>130 rows × 2 columns</p>\n",
       "</div>"
      ],
      "text/plain": [
       "                  First_Year Second_Year\n",
       "Country     match                       \n",
       "Switzerland 0           2004         NaN\n",
       "Iceland     0           2010         NaN\n",
       "Denmark     0           2010         NaN\n",
       "Norway      0           2010         NaN\n",
       "Canada      0           2010         NaN\n",
       "...                      ...         ...\n",
       "Afghanistan 0           2008         NaN\n",
       "Rwanda      0           2010          11\n",
       "Benin       0           2011          12\n",
       "Burundi     0           2006         NaN\n",
       "Togo        0           2011         NaN\n",
       "\n",
       "[130 rows x 2 columns]"
      ]
     },
     "execution_count": 53,
     "metadata": {},
     "output_type": "execute_result"
    }
   ],
   "source": [
    "years"
   ]
  },
  {
   "cell_type": "code",
   "execution_count": 55,
   "metadata": {},
   "outputs": [],
   "source": [
    "first_two_year = years['First_Year'].str[:2]"
   ]
  },
  {
   "cell_type": "code",
   "execution_count": 57,
   "metadata": {},
   "outputs": [],
   "source": [
    "years['Second_Year'] = first_two_year + years['Second_Year']"
   ]
  },
  {
   "cell_type": "markdown",
   "metadata": {},
   "source": [
    "## Challenge: Clean a String Column, Aggregate the Data, and Plot the Results"
   ]
  },
  {
   "cell_type": "code",
   "execution_count": 59,
   "metadata": {},
   "outputs": [
    {
     "data": {
      "text/plain": [
       "Upper middle income     39\n",
       "Lower middle income     35\n",
       "High income: OECD       30\n",
       "Low income              24\n",
       "High income: nonOECD    17\n",
       "NaN                     13\n",
       "Name: IncomeGroup, dtype: int64"
      ]
     },
     "execution_count": 59,
     "metadata": {},
     "output_type": "execute_result"
    }
   ],
   "source": [
    "merged['IncomeGroup'].value_counts(dropna=False)"
   ]
  },
  {
   "cell_type": "code",
   "execution_count": 65,
   "metadata": {},
   "outputs": [],
   "source": [
    "merged['IncomeGroup'] = merged['IncomeGroup'].str.replace('income', '').str.replace(': ', '').str.strip().str.upper()"
   ]
  },
  {
   "cell_type": "code",
   "execution_count": 66,
   "metadata": {},
   "outputs": [],
   "source": [
    "pv_incomes = merged.pivot_table(values='Happiness Score', index='IncomeGroup')"
   ]
  },
  {
   "cell_type": "code",
   "execution_count": 67,
   "metadata": {},
   "outputs": [
    {
     "data": {
      "text/plain": [
       "<matplotlib.axes._subplots.AxesSubplot at 0x24bbffe9860>"
      ]
     },
     "execution_count": 67,
     "metadata": {},
     "output_type": "execute_result"
    },
    {
     "data": {
      "image/png": "[encoded data removed]",
      "text/plain": [
       "<Figure size 432x288 with 1 Axes>"
      ]
     },
     "metadata": {
      "needs_background": "light"
     },
     "output_type": "display_data"
    }
   ],
   "source": [
    "pv_incomes.plot(kind='bar', rot=30, ylim=(0,10))"
   ]
  },
  {
   "cell_type": "code",
   "execution_count": null,
   "metadata": {},
   "outputs": [],
   "source": []
  }
 ],
 "metadata": {
  "kernelspec": {
   "display_name": "Python 3",
   "language": "python",
   "name": "python3"
  },
  "language_info": {
   "codemirror_mode": {
    "name": "ipython",
    "version": 3
   },
   "file_extension": ".py",
   "mimetype": "text/x-python",
   "name": "python",
   "nbconvert_exporter": "python",
   "pygments_lexer": "ipython3",
   "version": "3.6.8"
  },
  "toc": {
   "base_numbering": 1,
   "nav_menu": {},
   "number_sections": true,
   "sideBar": true,
   "skip_h1_title": false,
   "title_cell": "Table of Contents",
   "title_sidebar": "Contents",
   "toc_cell": false,
   "toc_position": {},
   "toc_section_display": true,
   "toc_window_display": false
  }
 },
 "nbformat": 4,
 "nbformat_minor": 4
}
