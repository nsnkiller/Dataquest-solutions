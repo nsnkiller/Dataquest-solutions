{
 "cells": [
  {
   "cell_type": "markdown",
   "metadata": {},
   "source": [
    "## Nonlinear Models"
   ]
  },
  {
   "cell_type": "markdown",
   "metadata": {},
   "source": [
    "![Jupyter](./recap_models.svg)\n",
    "\n",
    "![Jupyter](./ml_process.svg)"
   ]
  },
  {
   "cell_type": "markdown",
   "metadata": {},
   "source": [
    "## A Neural Network That Performs Linear Regression"
   ]
  },
  {
   "cell_type": "markdown",
   "metadata": {},
   "source": [
    "If you recall, a linear regression model is represented as:\n",
    "    \n",
    "$\\hat{y} = a_0 + a_1x_1 + a_2x_2 + ... + a_nx_n$\n",
    "\n",
    "Where:\n",
    "\n",
    "\n",
    "* $a_0$represents the intercept (also known as the **bias**)\n",
    "\n",
    "* $a_1$ to $a_n$ represent the trained model weights\n",
    "\n",
    "* $x_1$ to $x_n$ represent the features\n",
    "* $\\hat{y}$  represents the predicted value\n",
    "\n",
    "The first step is to rewrite this model using linear algebra notation, as a product of two vectors:\n",
    "\n",
    "$Xa^T  =  \\hat{y}$\n",
    "\n",
    "Here's a concrete example of this model;\n",
    "\n",
    "![Jupyter](./matrix_form.svg)"
   ]
  },
  {
   "cell_type": "markdown",
   "metadata": {},
   "source": [
    "**Neural Network Representation**\n",
    "\n",
    "In the neural network representation of this model:\n",
    "\n",
    "* each feature column in a data set is represented as an **input neuron**\n",
    "* each weight value is represented as an arrow from the feature column it multiples to the **output neuron**\n",
    "\n",
    "The neurons and arrows act as a visual metaphor for the weighted sum, which is how the feature columns and weights are combined.\n",
    "![Jupyter](./linear_network_one.svg)\n",
    "\n",
    "Inspired by biological neural networks, an **activation function** determines if the neuron fires or not. In a neural network model, the activation function transforms the weighted sum of the input values. For this network, the activation function is the identity function. The identity function returns the same value that was passed in:\n",
    "\n",
    "$f(x) = x$\n",
    "\n",
    "![Jupyter](./linear_network_two.svg)\n",
    "\n",
    "While the activation function isn't interesting for a network that performs linear regression, it's useful for logistic regression and more complex networks. Here's a comparison of both representations of the same linear regression model:\n",
    "\n",
    "![Jupyter](./regression_network_comparison.svg)"
   ]
  },
  {
   "cell_type": "markdown",
   "metadata": {},
   "source": [
    "## Generating Regression Data"
   ]
  },
  {
   "cell_type": "markdown",
   "metadata": {},
   "source": [
    "Scikit-learn contains the following convenience functions for generating data:\n",
    "\n",
    "* sklearn.datasets.make_regression()\n",
    "* sklearn.datasets.make_classification()\n",
    "* sklearn.datasets.make_moons()"
   ]
  },
  {
   "cell_type": "code",
   "execution_count": 44,
   "metadata": {},
   "outputs": [],
   "source": [
    "from sklearn.datasets import make_regression\n",
    "from sklearn.datasets import make_classification\n",
    "import pandas as pd\n",
    "from sklearn.linear_model import SGDRegressor\n",
    "from sklearn.linear_model import SGDClassifier\n",
    "import numpy as np"
   ]
  },
  {
   "cell_type": "code",
   "execution_count": 2,
   "metadata": {},
   "outputs": [
    {
     "data": {
      "text/plain": [
       "(array([[ 1.29322588e+00, -6.17362064e-01, -1.10447026e-01],\n",
       "        [-2.79308500e+00,  3.66332015e-01,  1.93752881e+00],\n",
       "        [ 8.01861032e-01, -1.86569772e-01,  4.65672984e-02],\n",
       "        [ 1.29101580e-01,  5.02740882e-01,  1.61694960e+00],\n",
       "        [-6.91660752e-01, -6.87172700e-01, -3.96753527e-01],\n",
       "        [-7.54397941e-01,  5.12929820e-01,  1.25286816e+00],\n",
       "        [ 1.90465871e+00,  6.59049796e-01,  1.11105670e+00],\n",
       "        [ 2.01830179e-01,  1.79215821e+00,  6.61020288e-01],\n",
       "        [ 4.22137467e-02, -1.10061918e+00,  5.82815214e-01],\n",
       "        [-1.39649634e+00, -5.04465863e-01, -1.44411381e+00],\n",
       "        [-3.10116774e-01,  1.03882460e+00, -2.43483776e+00],\n",
       "        [ 8.36004719e-01,  7.58805660e-01,  1.54335911e+00],\n",
       "        [-8.45080274e-02,  4.17302005e-01, -2.97361883e-01],\n",
       "        [-8.90555584e-01,  1.95607890e+00, -1.11911540e+00],\n",
       "        [-9.35769434e-01,  5.30355467e-01, -2.67888080e-01],\n",
       "        [ 1.55880554e+00, -1.21974440e+00,  1.09402696e-01],\n",
       "        [ 8.10951673e-01, -4.00878192e-01,  1.04444209e+00],\n",
       "        [ 4.36689932e-02,  1.33145711e+00, -2.26314243e-01],\n",
       "        [ 7.42044161e-01, -8.87628964e-01, -1.91835552e-01],\n",
       "        [ 1.69382433e-01, -9.53700602e-01,  7.40556451e-01],\n",
       "        [-1.61577235e+00,  4.08900538e-01,  1.12141771e+00],\n",
       "        [ 2.19069973e+00, -6.46916688e-01, -1.89636092e+00],\n",
       "        [ 1.39984394e+00, -4.37508983e-01, -7.81911683e-01],\n",
       "        [ 8.24005618e-01,  1.95487808e+00, -5.62305431e-01],\n",
       "        [ 1.74481176e+00,  3.19039096e-01, -7.61206901e-01],\n",
       "        [-1.52568032e+00, -3.74438319e-01,  7.95026094e-01],\n",
       "        [-1.30572692e+00, -2.30839743e-01, -3.44987210e-01],\n",
       "        [-1.01745873e-01,  7.50411640e-01,  8.68886157e-01],\n",
       "        [-1.33195167e+00, -1.65072127e+00, -1.76068856e+00],\n",
       "        [-1.27255876e+00,  5.03184813e-01,  3.13547720e-01],\n",
       "        [-1.12201873e+00, -9.97026828e-01, -5.17094458e-01],\n",
       "        [ 9.00855949e-01, -1.22890226e-01, -6.83727859e-01],\n",
       "        [-2.02220122e+00,  8.27974643e-01, -3.06204013e-01],\n",
       "        [ 9.01486892e-01, -2.48634778e-01,  2.52832571e+00],\n",
       "        [ 1.96710175e+00,  1.23616403e+00, -1.85798186e+00],\n",
       "        [-1.11731035e+00,  1.65980218e+00,  2.34415698e-01],\n",
       "        [ 3.15159392e-01, -8.59515941e-01,  8.46160648e-01],\n",
       "        [ 6.23362177e-01,  1.40754000e+00, -4.34956683e-01],\n",
       "        [-1.74703160e-01,  2.13533901e-01,  9.86335188e-01],\n",
       "        [ 2.48799161e-01,  4.95211324e-01, -2.96641152e-01],\n",
       "        [-2.49370375e-01, -2.06014071e+00,  1.46210794e+00],\n",
       "        [-3.22417204e-01,  1.13376944e+00, -3.84054355e-01],\n",
       "        [-2.98092835e-01, -7.55717130e-02,  4.88518147e-01],\n",
       "        [ 2.11124755e-01,  1.77187720e-01,  1.65275673e-02],\n",
       "        [ 4.03491642e-01, -1.09491185e+00,  5.93578523e-01],\n",
       "        [-6.65754518e-01,  8.25029824e-01, -1.67419581e+00],\n",
       "        [-2.87307863e-01, -3.19801599e-01,  6.80069840e-01],\n",
       "        [-1.07296862e+00, -2.30153870e+00,  8.65407629e-01],\n",
       "        [-3.43853676e-01, -6.20000844e-01,  4.35968568e-02],\n",
       "        [ 2.30094735e-01, -2.22328143e-01,  7.62011180e-01],\n",
       "        [-2.66218506e-01, -1.37311732e+00,  3.26145467e-02],\n",
       "        [-7.47158294e-01,  5.08077548e-02,  1.69245460e+00],\n",
       "        [-1.04458938e+00,  5.85662000e-01,  2.05117344e+00],\n",
       "        [ 1.14472371e+00,  5.02494339e-01,  9.01590721e-01],\n",
       "        [ 4.29526140e-01,  1.06222724e-01, -6.06998398e-01],\n",
       "        [ 6.98032034e-01,  1.22450770e+00, -4.47128565e-01],\n",
       "        [-1.20464572e-01, -1.18231813e+00, -1.23312074e+00],\n",
       "        [ 1.62434536e+00, -5.28171752e-01, -6.11756414e-01],\n",
       "        [ 3.50545979e-01, -3.86955093e-02, -1.31228341e+00],\n",
       "        [ 1.60037069e-01,  3.15634947e-01,  8.76168921e-01],\n",
       "        [ 2.44936865e+00, -1.98837863e-01, -5.45774168e-01],\n",
       "        [-3.52249846e-01, -3.49342722e-01, -1.14251820e+00],\n",
       "        [ 1.20158952e-01,  3.00170320e-01,  6.17203110e-01],\n",
       "        [-1.23005814e+00,  7.92806866e-01,  5.50537496e-01],\n",
       "        [-2.46169559e-02,  1.27375593e+00, -7.75161619e-01],\n",
       "        [ 2.62467445e-01, -7.33271604e-01,  2.76499305e-01],\n",
       "        [ 1.62765075e+00, -1.19926803e+00,  3.38011697e-01],\n",
       "        [-7.31127037e-02,  3.69492716e-01,  1.16033857e+00],\n",
       "        [ 6.18539131e-01,  1.81053491e+00, -4.43171931e-01],\n",
       "        [-1.39662042e+00,  6.74711526e-01, -8.61316361e-01],\n",
       "        [-4.98213564e-01, -1.89148284e-03, -3.10984978e-01],\n",
       "        [-1.62743834e+00,  4.20282204e-01,  6.02319280e-01],\n",
       "        [-8.45205641e-01, -1.26645989e-02, -6.71246131e-01],\n",
       "        [-3.26499498e-01,  1.11438298e+00, -1.34267579e+00],\n",
       "        [ 9.31102081e-01,  8.85141164e-01,  2.85587325e-01],\n",
       "        [ 8.63345318e-01, -6.03920628e-01, -1.80920302e-01],\n",
       "        [-2.00758069e-01,  4.10051647e-01,  1.86561391e-01],\n",
       "        [ 1.98299720e-01, -6.70662286e-01,  1.19008646e-01],\n",
       "        [ 5.29465324e-01,  7.78211279e-02,  1.37701210e-01],\n",
       "        [-5.86523939e-01,  8.75838928e-01, -1.23685338e+00],\n",
       "        [-6.36995647e-01,  2.10025514e+00,  1.90915485e-01],\n",
       "        [-5.68244809e-02, -6.80678141e-01,  4.92336556e-01],\n",
       "        [-6.23530730e-01, -1.14434139e+00,  5.20576337e-01],\n",
       "        [ 6.18380262e-01,  6.82551407e-01,  2.32494559e-01],\n",
       "        [-6.38730407e-01,  7.73400683e-02,  4.23494354e-01],\n",
       "        [-1.36444744e-01,  1.74094083e-02, -1.19054188e-01],\n",
       "        [ 1.34048197e-01,  2.84748111e-01,  1.20205486e+00],\n",
       "        [ 3.77563786e-01,  1.12948391e+00,  1.21821271e-01],\n",
       "        [-2.08894233e-01,  8.38983414e-01,  5.86623191e-01],\n",
       "        [-1.44087602e+00, -2.54179868e-01,  1.23225307e+00],\n",
       "        [ 7.84770651e-01,  5.85910431e-01, -9.55425262e-01],\n",
       "        [ 9.54250872e-02,  6.07501958e-02,  9.21450069e-01],\n",
       "        [ 8.84908814e-01, -8.67787223e-01, -8.77281519e-01],\n",
       "        [-1.09989127e+00, -8.77858418e-01, -1.72428208e-01],\n",
       "        [ 1.13162939e+00,  2.18557541e+00,  1.51981682e+00],\n",
       "        [ 1.19891788e+00, -3.75284950e-01,  1.85156417e-01],\n",
       "        [-1.11647002e+00, -1.86578994e-01,  8.09271010e-02],\n",
       "        [ 2.18697965e+00, -1.00155233e-01,  4.41364444e-01],\n",
       "        [ 5.62761097e-01,  2.80665077e-01,  2.40737092e-01],\n",
       "        [-7.00398505e-01,  2.42669441e-01, -2.03394449e-01]]),\n",
       " array([ -10.37865986,   25.5124503 ,   19.67705609,  149.50205427,\n",
       "        -121.65210879,   90.29412996,  214.01379719,  224.74157328,\n",
       "         -73.17331138, -195.62776209,  -52.49101402,  201.80460524,\n",
       "          20.27419601,   89.16398784,   -4.43979447,  -45.4775122 ,\n",
       "          56.90170664,  120.54902155,  -66.21870151,  -43.83850762,\n",
       "          34.28844887,  -77.50879778,  -26.91704015,  197.19513885,\n",
       "          64.4108542 ,  -58.24364135, -100.61171138,  120.30838239,\n",
       "        -324.6376023 ,   11.80311373, -178.33643388,  -12.11793859,\n",
       "         -25.22113932,  162.27013301,  101.22058681,  128.5378687 ,\n",
       "         -21.93291701,  141.56205532,   70.77737306,   42.75618757,\n",
       "        -129.88966784,   75.63153631,    7.75853852,   27.82808415,\n",
       "         -56.01743267,  -45.12995511,   -4.79734991, -224.87997574,\n",
       "         -74.02423583,   32.47986763, -145.77204264,   70.44079726,\n",
       "         131.09675782,  152.75477314,   -5.80729922,  126.03820644,\n",
       "        -194.05903549,  -16.07374331,  -64.65855618,   89.26813436,\n",
       "          56.81764512, -116.58860426,   70.91442266,   56.12941632,\n",
       "          79.90072841,  -44.89655856,  -27.11317814,  100.82239274,\n",
       "         180.75763303,  -45.02977955,  -40.28966423,    4.70983448,\n",
       "         -77.6416384 ,   17.78110239,  145.36191106,  -32.14346413,\n",
       "          42.56333581,  -50.69469082,   39.10805003,  -11.1650345 ,\n",
       "         190.82721374,  -41.2481516 , -110.53993067,  108.40348884,\n",
       "           4.05845119,  -11.23037507,  104.01543511,  135.5604179 ,\n",
       "         107.92408052,  -17.16536951,   37.10456128,   63.81909065,\n",
       "         -97.80560038, -145.51888775,  354.71399851,   26.60508124,\n",
       "         -63.09743841,  112.39944435,   66.6482531 ,  -18.76162201]))"
      ]
     },
     "execution_count": 2,
     "metadata": {},
     "output_type": "execute_result"
    }
   ],
   "source": [
    "data = make_regression(n_samples=100, n_features=3, random_state=1)\n",
    "data"
   ]
  },
  {
   "cell_type": "code",
   "execution_count": 3,
   "metadata": {},
   "outputs": [],
   "source": [
    "features = pd.DataFrame(data[0])\n",
    "\n",
    "labels = pd.Series(data[1])"
   ]
  },
  {
   "cell_type": "code",
   "execution_count": 4,
   "metadata": {},
   "outputs": [
    {
     "data": {
      "text/html": [
       "<div>\n",
       "<style scoped>\n",
       "    .dataframe tbody tr th:only-of-type {\n",
       "        vertical-align: middle;\n",
       "    }\n",
       "\n",
       "    .dataframe tbody tr th {\n",
       "        vertical-align: top;\n",
       "    }\n",
       "\n",
       "    .dataframe thead th {\n",
       "        text-align: right;\n",
       "    }\n",
       "</style>\n",
       "<table border=\"1\" class=\"dataframe\">\n",
       "  <thead>\n",
       "    <tr style=\"text-align: right;\">\n",
       "      <th></th>\n",
       "      <th>0</th>\n",
       "      <th>1</th>\n",
       "      <th>2</th>\n",
       "    </tr>\n",
       "  </thead>\n",
       "  <tbody>\n",
       "    <tr>\n",
       "      <th>0</th>\n",
       "      <td>1.293226</td>\n",
       "      <td>-0.617362</td>\n",
       "      <td>-0.110447</td>\n",
       "    </tr>\n",
       "    <tr>\n",
       "      <th>1</th>\n",
       "      <td>-2.793085</td>\n",
       "      <td>0.366332</td>\n",
       "      <td>1.937529</td>\n",
       "    </tr>\n",
       "    <tr>\n",
       "      <th>2</th>\n",
       "      <td>0.801861</td>\n",
       "      <td>-0.186570</td>\n",
       "      <td>0.046567</td>\n",
       "    </tr>\n",
       "    <tr>\n",
       "      <th>3</th>\n",
       "      <td>0.129102</td>\n",
       "      <td>0.502741</td>\n",
       "      <td>1.616950</td>\n",
       "    </tr>\n",
       "    <tr>\n",
       "      <th>4</th>\n",
       "      <td>-0.691661</td>\n",
       "      <td>-0.687173</td>\n",
       "      <td>-0.396754</td>\n",
       "    </tr>\n",
       "    <tr>\n",
       "      <th>...</th>\n",
       "      <td>...</td>\n",
       "      <td>...</td>\n",
       "      <td>...</td>\n",
       "    </tr>\n",
       "    <tr>\n",
       "      <th>95</th>\n",
       "      <td>1.198918</td>\n",
       "      <td>-0.375285</td>\n",
       "      <td>0.185156</td>\n",
       "    </tr>\n",
       "    <tr>\n",
       "      <th>96</th>\n",
       "      <td>-1.116470</td>\n",
       "      <td>-0.186579</td>\n",
       "      <td>0.080927</td>\n",
       "    </tr>\n",
       "    <tr>\n",
       "      <th>97</th>\n",
       "      <td>2.186980</td>\n",
       "      <td>-0.100155</td>\n",
       "      <td>0.441364</td>\n",
       "    </tr>\n",
       "    <tr>\n",
       "      <th>98</th>\n",
       "      <td>0.562761</td>\n",
       "      <td>0.280665</td>\n",
       "      <td>0.240737</td>\n",
       "    </tr>\n",
       "    <tr>\n",
       "      <th>99</th>\n",
       "      <td>-0.700399</td>\n",
       "      <td>0.242669</td>\n",
       "      <td>-0.203394</td>\n",
       "    </tr>\n",
       "  </tbody>\n",
       "</table>\n",
       "<p>100 rows × 3 columns</p>\n",
       "</div>"
      ],
      "text/plain": [
       "           0         1         2\n",
       "0   1.293226 -0.617362 -0.110447\n",
       "1  -2.793085  0.366332  1.937529\n",
       "2   0.801861 -0.186570  0.046567\n",
       "3   0.129102  0.502741  1.616950\n",
       "4  -0.691661 -0.687173 -0.396754\n",
       "..       ...       ...       ...\n",
       "95  1.198918 -0.375285  0.185156\n",
       "96 -1.116470 -0.186579  0.080927\n",
       "97  2.186980 -0.100155  0.441364\n",
       "98  0.562761  0.280665  0.240737\n",
       "99 -0.700399  0.242669 -0.203394\n",
       "\n",
       "[100 rows x 3 columns]"
      ]
     },
     "execution_count": 4,
     "metadata": {},
     "output_type": "execute_result"
    }
   ],
   "source": [
    "features"
   ]
  },
  {
   "cell_type": "code",
   "execution_count": 5,
   "metadata": {},
   "outputs": [
    {
     "data": {
      "text/plain": [
       "0     -10.378660\n",
       "1      25.512450\n",
       "2      19.677056\n",
       "3     149.502054\n",
       "4    -121.652109\n",
       "         ...    \n",
       "95     26.605081\n",
       "96    -63.097438\n",
       "97    112.399444\n",
       "98     66.648253\n",
       "99    -18.761622\n",
       "Length: 100, dtype: float64"
      ]
     },
     "execution_count": 5,
     "metadata": {},
     "output_type": "execute_result"
    }
   ],
   "source": [
    "labels"
   ]
  },
  {
   "cell_type": "markdown",
   "metadata": {},
   "source": [
    "## Fitting A Linear Regression Neural Network"
   ]
  },
  {
   "cell_type": "markdown",
   "metadata": {},
   "source": [
    "![Jupyter](./feedforward_network.svg)"
   ]
  },
  {
   "cell_type": "code",
   "execution_count": 7,
   "metadata": {},
   "outputs": [],
   "source": [
    "features['bias'] = 1"
   ]
  },
  {
   "cell_type": "code",
   "execution_count": 11,
   "metadata": {},
   "outputs": [],
   "source": [
    "\n",
    "def train(X, y):\n",
    "    lr = SGDRegressor()\n",
    "    lr.fit(X,y)\n",
    "    return lr.coef_\n",
    "    "
   ]
  },
  {
   "cell_type": "code",
   "execution_count": 30,
   "metadata": {},
   "outputs": [],
   "source": [
    "def feedforward(X, weights):\n",
    "    predictions = np.dot(X, weights)\n",
    "    return predictions"
   ]
  },
  {
   "cell_type": "code",
   "execution_count": 31,
   "metadata": {},
   "outputs": [],
   "source": [
    "train_weights = train(features, labels)\n",
    "linear_predictions = feedforward(features, train_weights)"
   ]
  },
  {
   "cell_type": "markdown",
   "metadata": {},
   "source": [
    "## Generating Classification Data"
   ]
  },
  {
   "cell_type": "code",
   "execution_count": 40,
   "metadata": {},
   "outputs": [],
   "source": [
    "data = make_classification(n_samples=100, n_features=4, random_state=1)\n",
    "\n",
    "class_features = pd.DataFrame(data[0])\n",
    "\n",
    "class_labels = pd.Series(data[1])"
   ]
  },
  {
   "cell_type": "markdown",
   "metadata": {},
   "source": [
    "## Implementing A Neural Network That Performs Classification"
   ]
  },
  {
   "cell_type": "code",
   "execution_count": 46,
   "metadata": {},
   "outputs": [],
   "source": [
    "class_features['bias'] = 1"
   ]
  },
  {
   "cell_type": "code",
   "execution_count": 68,
   "metadata": {},
   "outputs": [],
   "source": [
    "def log_train(X, y):\n",
    "    clf = SGDClassifier()\n",
    "    clf.fit(X,y)\n",
    "    return clf.coef_.T"
   ]
  },
  {
   "cell_type": "code",
   "execution_count": 78,
   "metadata": {},
   "outputs": [],
   "source": [
    "def sigmoid(linear_combination):\n",
    "    return 1/(1+np.exp(-linear_combination))"
   ]
  },
  {
   "cell_type": "code",
   "execution_count": 79,
   "metadata": {},
   "outputs": [],
   "source": [
    "def log_feedforward(X, weights):\n",
    "    linear_combination = np.dot(X, weights)\n",
    "    log_predictions = sigmoid(linear_combination)\n",
    "    return np.round(log_predictions)\n",
    "    "
   ]
  },
  {
   "cell_type": "code",
   "execution_count": 80,
   "metadata": {},
   "outputs": [],
   "source": [
    "log_train_weights = log_train(class_features, class_labels)\n",
    "log_predictions = log_feedforward(class_features, log_train_weights)"
   ]
  },
  {
   "cell_type": "code",
   "execution_count": 81,
   "metadata": {},
   "outputs": [
    {
     "data": {
      "text/plain": [
       "array([[0.],\n",
       "       [0.],\n",
       "       [1.],\n",
       "       [0.],\n",
       "       [1.],\n",
       "       [0.],\n",
       "       [0.],\n",
       "       [1.],\n",
       "       [1.],\n",
       "       [0.],\n",
       "       [1.],\n",
       "       [0.],\n",
       "       [1.],\n",
       "       [0.],\n",
       "       [0.],\n",
       "       [0.],\n",
       "       [1.],\n",
       "       [0.],\n",
       "       [0.],\n",
       "       [0.],\n",
       "       [0.],\n",
       "       [0.],\n",
       "       [1.],\n",
       "       [0.],\n",
       "       [1.],\n",
       "       [1.],\n",
       "       [0.],\n",
       "       [1.],\n",
       "       [0.],\n",
       "       [0.],\n",
       "       [1.],\n",
       "       [1.],\n",
       "       [0.],\n",
       "       [1.],\n",
       "       [0.],\n",
       "       [0.],\n",
       "       [0.],\n",
       "       [0.],\n",
       "       [0.],\n",
       "       [0.],\n",
       "       [0.],\n",
       "       [0.],\n",
       "       [0.],\n",
       "       [0.],\n",
       "       [1.],\n",
       "       [1.],\n",
       "       [0.],\n",
       "       [0.],\n",
       "       [0.],\n",
       "       [1.],\n",
       "       [1.],\n",
       "       [1.],\n",
       "       [0.],\n",
       "       [1.],\n",
       "       [0.],\n",
       "       [1.],\n",
       "       [1.],\n",
       "       [1.],\n",
       "       [0.],\n",
       "       [1.],\n",
       "       [0.],\n",
       "       [1.],\n",
       "       [0.],\n",
       "       [0.],\n",
       "       [1.],\n",
       "       [1.],\n",
       "       [1.],\n",
       "       [1.],\n",
       "       [0.],\n",
       "       [0.],\n",
       "       [1.],\n",
       "       [1.],\n",
       "       [0.],\n",
       "       [0.],\n",
       "       [0.],\n",
       "       [0.],\n",
       "       [1.],\n",
       "       [1.],\n",
       "       [1.],\n",
       "       [1.],\n",
       "       [0.],\n",
       "       [0.],\n",
       "       [1.],\n",
       "       [1.],\n",
       "       [1.],\n",
       "       [1.],\n",
       "       [1.],\n",
       "       [0.],\n",
       "       [1.],\n",
       "       [1.],\n",
       "       [0.],\n",
       "       [1.],\n",
       "       [1.],\n",
       "       [1.],\n",
       "       [1.],\n",
       "       [0.],\n",
       "       [0.],\n",
       "       [1.],\n",
       "       [1.],\n",
       "       [0.]])"
      ]
     },
     "execution_count": 81,
     "metadata": {},
     "output_type": "execute_result"
    }
   ],
   "source": [
    "log_predictions"
   ]
  },
  {
   "cell_type": "code",
   "execution_count": null,
   "metadata": {},
   "outputs": [],
   "source": []
  }
 ],
 "metadata": {
  "kernelspec": {
   "display_name": "Python 3",
   "language": "python",
   "name": "python3"
  },
  "language_info": {
   "codemirror_mode": {
    "name": "ipython",
    "version": 3
   },
   "file_extension": ".py",
   "mimetype": "text/x-python",
   "name": "python",
   "nbconvert_exporter": "python",
   "pygments_lexer": "ipython3",
   "version": "3.6.8"
  },
  "toc": {
   "base_numbering": 1,
   "nav_menu": {},
   "number_sections": true,
   "sideBar": true,
   "skip_h1_title": false,
   "title_cell": "Table of Contents",
   "title_sidebar": "Contents",
   "toc_cell": false,
   "toc_position": {},
   "toc_section_display": true,
   "toc_window_display": false
  }
 },
 "nbformat": 4,
 "nbformat_minor": 4
}
